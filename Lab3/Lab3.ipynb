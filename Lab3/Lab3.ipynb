{
 "cells": [
  {
   "cell_type": "markdown",
   "metadata": {},
   "source": [
    "# Lab 3 - Working with Units, Quantitities and Equations\n",
    "\n",
    "*This notebook is based on the [2016 AAS Python Units tutorial](https://github.com/kfollette/AAS2016/blob/master/notebooks/aas2016_Units.ipynb), though expanded and adapted*"
   ]
  },
  {
   "cell_type": "markdown",
   "metadata": {},
   "source": [
    "## 1. The Astropy Units Package"
   ]
  },
  {
   "cell_type": "markdown",
   "metadata": {},
   "source": [
    "One very useful python package is the astropy units package. Astropy is a library of python functions specific to astronomy that we will use pretty frequently in this class.  Astropy.units is a powerful module within astropy that allows users to attach units to scalars and arrays.  These quantities can be manipulated or combined, keeping track of the units.\n",
    "\n",
    "For more information about the features presented below, please see the\n",
    "[astropy.units](http://docs.astropy.org/en/stable/units/index.html) docs."
   ]
  },
  {
   "cell_type": "markdown",
   "metadata": {},
   "source": [
    "### 1.1 Basic units"
   ]
  },
  {
   "cell_type": "markdown",
   "metadata": {},
   "source": [
    "Because we may want to use units many times within one notebook, it is easiest and\n",
    "most concise to import the units module with a nickname like u so that we don't have to type \"astropy.units\" every time we want to use something within it."
   ]
  },
  {
   "cell_type": "code",
   "execution_count": null,
   "metadata": {
    "collapsed": false
   },
   "outputs": [],
   "source": [
    "import astropy.units as u"
   ]
  },
  {
   "cell_type": "markdown",
   "metadata": {},
   "source": [
    "***However, note that this will conflict with any variable called ``u``.***\n",
    "\n",
    "Units can then be accessed as u.\"unit\", e.g. with most of the typical abbreviations"
   ]
  },
  {
   "cell_type": "code",
   "execution_count": null,
   "metadata": {
    "collapsed": false
   },
   "outputs": [],
   "source": [
    "u.m #meters"
   ]
  },
  {
   "cell_type": "markdown",
   "metadata": {},
   "source": [
    "Units have docstrings defining them. You can call up the docstring, data type and other ancillary information  with ? as we've done before and it will pop up a separate frame at the bottom of the window that you close when done with it. \n",
    "\n",
    "If you explicitly want to print the docstring to output inside the notebook (which can be quite useful so that you can use it later), you can do that with *\\__doc\\__* for the docstring. The units functions in astropy have an additional property called physical type that will tell you what KIND of measurement they are (length, area, time, etc.). You call up this property with *physical_type*, as below. "
   ]
  },
  {
   "cell_type": "code",
   "execution_count": null,
   "metadata": {
    "collapsed": true
   },
   "outputs": [],
   "source": [
    "u.m?"
   ]
  },
  {
   "cell_type": "code",
   "execution_count": null,
   "metadata": {
    "collapsed": false
   },
   "outputs": [],
   "source": [
    "u.m.__doc__"
   ]
  },
  {
   "cell_type": "code",
   "execution_count": null,
   "metadata": {
    "collapsed": false
   },
   "outputs": [],
   "source": [
    "u.m.physical_type"
   ]
  },
  {
   "cell_type": "markdown",
   "metadata": {},
   "source": [
    "Here are some astronomy specific units that we will be using often"
   ]
  },
  {
   "cell_type": "code",
   "execution_count": null,
   "metadata": {
    "collapsed": false
   },
   "outputs": [],
   "source": [
    "u.pc.__doc__"
   ]
  },
  {
   "cell_type": "code",
   "execution_count": null,
   "metadata": {
    "collapsed": false
   },
   "outputs": [],
   "source": [
    "u.pc.physical_type"
   ]
  },
  {
   "cell_type": "code",
   "execution_count": null,
   "metadata": {
    "collapsed": false
   },
   "outputs": [],
   "source": [
    "u.arcsec.__doc__"
   ]
  },
  {
   "cell_type": "code",
   "execution_count": null,
   "metadata": {
    "collapsed": false
   },
   "outputs": [],
   "source": [
    "u.arcsec.physical_type"
   ]
  },
  {
   "cell_type": "code",
   "execution_count": null,
   "metadata": {
    "collapsed": false
   },
   "outputs": [],
   "source": [
    "u.au.__doc__"
   ]
  },
  {
   "cell_type": "code",
   "execution_count": null,
   "metadata": {
    "collapsed": false
   },
   "outputs": [],
   "source": [
    "u.au.physical_type"
   ]
  },
  {
   "cell_type": "markdown",
   "metadata": {},
   "source": [
    "Please see the complete list of [available units](https://astropy.readthedocs.org/en/stable/units/index.html#module-astropy.units.si)."
   ]
  },
  {
   "cell_type": "markdown",
   "metadata": {},
   "source": [
    "### 1.2 Composite units"
   ]
  },
  {
   "cell_type": "markdown",
   "metadata": {},
   "source": [
    "Composite units are created using Python numeric operators, e.g. \"`*`\" (multiplication), \"`/`\" (division), and \"`**`\" (power)."
   ]
  },
  {
   "cell_type": "code",
   "execution_count": null,
   "metadata": {
    "collapsed": false
   },
   "outputs": [],
   "source": [
    "u.km / u.s"
   ]
  },
  {
   "cell_type": "code",
   "execution_count": null,
   "metadata": {
    "collapsed": false
   },
   "outputs": [],
   "source": [
    "u.imperial.mile / u.h"
   ]
  },
  {
   "cell_type": "code",
   "execution_count": null,
   "metadata": {
    "collapsed": false
   },
   "outputs": [],
   "source": [
    "(u.eV * u.Mpc) / u.Gyr"
   ]
  },
  {
   "cell_type": "code",
   "execution_count": null,
   "metadata": {
    "collapsed": false
   },
   "outputs": [],
   "source": [
    "u.cm**3"
   ]
  },
  {
   "cell_type": "code",
   "execution_count": null,
   "metadata": {
    "collapsed": false
   },
   "outputs": [],
   "source": [
    "u.m / u.kg / u.s**2"
   ]
  },
  {
   "cell_type": "markdown",
   "metadata": {},
   "source": [
    "### 1.3 ``Quantity`` objects\n",
    "The most useful feature of units is the ability to attach them to scalars or arrays, creating ``Quantity`` objects. The easiest way to create a `Quantity` object is simply by multiplying the value with its unit."
   ]
  },
  {
   "cell_type": "code",
   "execution_count": null,
   "metadata": {
    "collapsed": false
   },
   "outputs": [],
   "source": [
    "3. * u.au"
   ]
  },
  {
   "cell_type": "markdown",
   "metadata": {},
   "source": [
    "A completely equivalent (but more verbose) way of doing the same thing is to use the `Quantity` object's initializer, demonstrated below.  In general, the simpler form (above) is preferred, as it is closer to how such a quantity would actually be written in text.  The initalizer form has more options, though, which you can learn about from the [astropy reference documentation on Quantity](http://docs.astropy.org/en/stable/api/astropy.units.quantity.Quantity.html)."
   ]
  },
  {
   "cell_type": "code",
   "execution_count": null,
   "metadata": {
    "collapsed": false
   },
   "outputs": [],
   "source": [
    "u.Quantity(3, unit=u.au)"
   ]
  },
  {
   "cell_type": "markdown",
   "metadata": {},
   "source": [
    "We can also generate a ``Quantity`` array:"
   ]
  },
  {
   "cell_type": "code",
   "execution_count": null,
   "metadata": {
    "collapsed": false
   },
   "outputs": [],
   "source": [
    "import numpy as np\n",
    "x = np.array([1.2, 2.2, 1.7]) * u.pc / u.year\n",
    "x"
   ]
  },
  {
   "cell_type": "code",
   "execution_count": null,
   "metadata": {
    "collapsed": false
   },
   "outputs": [],
   "source": [
    "x * 3"
   ]
  },
  {
   "cell_type": "markdown",
   "metadata": {},
   "source": [
    "### 1.4 Using physical constants"
   ]
  },
  {
   "cell_type": "markdown",
   "metadata": {},
   "source": [
    "The [astropy.constants](http://docs.astropy.org/en/v0.2.1/constants/index.html) module also contains physical constants relevant for astronomy.  They are defined as ``Quantity`` objects using the ``astropy.units`` framework."
   ]
  },
  {
   "cell_type": "code",
   "execution_count": null,
   "metadata": {
    "collapsed": true
   },
   "outputs": [],
   "source": [
    "from astropy.constants import G, c, R_earth"
   ]
  },
  {
   "cell_type": "markdown",
   "metadata": {},
   "source": [
    "There are a few subtelties to note here. First, both of the following methods for importing astropy.constants are perfectly legitimate:\n",
    "\n",
    "1) from astropy import constants (or from astropy import constants as cst)\n",
    "    Here, you would import all of the constant definitions in the module, but would have to refer to them with the constants. (or cst.) prefix. For example, G would now be constants.G. \n",
    "\n",
    "2) from astropy.constants import \\*\n",
    "    Here the \\* means \"all\", so this command will import all of the constants defintions from the module. The danger here is that you will overwrite any assigned variables with those names (e.g. \"c\") with the constants. Generally speaking, it's best to use the method shown and only import the constants that you need OR use 1) above. "
   ]
  },
  {
   "cell_type": "code",
   "execution_count": null,
   "metadata": {
    "collapsed": false
   },
   "outputs": [],
   "source": [
    "G"
   ]
  },
  {
   "cell_type": "code",
   "execution_count": null,
   "metadata": {
    "collapsed": false
   },
   "outputs": [],
   "source": [
    "c"
   ]
  },
  {
   "cell_type": "markdown",
   "metadata": {},
   "source": [
    "There are also lots of great values that we don't typically think of as constants stored in this module. For example, the radius of the Earth. Some of these are also stored in the units module."
   ]
  },
  {
   "cell_type": "code",
   "execution_count": null,
   "metadata": {
    "collapsed": false
   },
   "outputs": [],
   "source": [
    "R_earth"
   ]
  },
  {
   "cell_type": "markdown",
   "metadata": {},
   "source": [
    "Please see the complete list of [available physical constants](http://docs.astropy.org/en/stable/constants/index.html#module-astropy.constants).  Additions are welcome!"
   ]
  },
  {
   "cell_type": "markdown",
   "metadata": {},
   "source": [
    "### Intermezzo - variable/quantity attributes"
   ]
  },
  {
   "cell_type": "markdown",
   "metadata": {},
   "source": [
    "This brings us to an idea that we have not yet encountered - python attributes. You can complete operations on variables, arrays or quantities with variable.attribute or quantity.attribute, as below. "
   ]
  },
  {
   "cell_type": "code",
   "execution_count": null,
   "metadata": {
    "collapsed": true
   },
   "outputs": [],
   "source": [
    "x = np.array([1, 2, -3, 4, 5])"
   ]
  },
  {
   "cell_type": "code",
   "execution_count": null,
   "metadata": {
    "collapsed": false
   },
   "outputs": [],
   "source": [
    "x.dtype"
   ]
  },
  {
   "cell_type": "code",
   "execution_count": null,
   "metadata": {
    "collapsed": false
   },
   "outputs": [],
   "source": [
    "x.ndim"
   ]
  },
  {
   "cell_type": "code",
   "execution_count": null,
   "metadata": {
    "collapsed": false
   },
   "outputs": [],
   "source": [
    "x.size"
   ]
  },
  {
   "cell_type": "markdown",
   "metadata": {},
   "source": [
    "If you forget what the specific attribute is or want some hints as to what attributes are available, you can use another jupyter help method that we haven't mentioned yet - the shift + tab method. Basically, you can hit shift + tab, shift + tab + tab at any point while typing a python command in a jupyter code cell, and it will pull up increasing levels of help according to how many tabs you've hit. For example, in the cell below, put your cursor after the x. and hit shift+tab, then try shift + tab + tab, etc. shift + tab will give you just some basic information about the variable, and shift + tab + tab will give you additional information, like a list of possible attributes that you can call"
   ]
  },
  {
   "cell_type": "code",
   "execution_count": null,
   "metadata": {
    "collapsed": false
   },
   "outputs": [],
   "source": [
    "x."
   ]
  },
  {
   "cell_type": "markdown",
   "metadata": {},
   "source": [
    "Equally useful and operating based on the same basic principle, there are a number of functions that can be exercised on a variable using variablename.function. To call up a list of these, place your cursor after the x. and hit just tab."
   ]
  },
  {
   "cell_type": "code",
   "execution_count": null,
   "metadata": {
    "collapsed": false
   },
   "outputs": [],
   "source": [
    "x."
   ]
  },
  {
   "cell_type": "markdown",
   "metadata": {},
   "source": [
    "Here are some particularly useful ones for array statistics - minimum and maximum values, standard deviation, and mean. "
   ]
  },
  {
   "cell_type": "code",
   "execution_count": null,
   "metadata": {
    "collapsed": false,
    "scrolled": true
   },
   "outputs": [],
   "source": [
    "x.min() #minimum array value"
   ]
  },
  {
   "cell_type": "code",
   "execution_count": null,
   "metadata": {
    "collapsed": false
   },
   "outputs": [],
   "source": [
    "x.max() #maximum array value"
   ]
  },
  {
   "cell_type": "code",
   "execution_count": null,
   "metadata": {
    "collapsed": false
   },
   "outputs": [],
   "source": [
    "x.std() #standard deviation"
   ]
  },
  {
   "cell_type": "code",
   "execution_count": null,
   "metadata": {
    "collapsed": false
   },
   "outputs": [],
   "source": [
    "x.mean()"
   ]
  },
  {
   "cell_type": "markdown",
   "metadata": {},
   "source": [
    "many additional useful functions are built into numpy, and are called in the usual way, for example"
   ]
  },
  {
   "cell_type": "code",
   "execution_count": null,
   "metadata": {
    "collapsed": false
   },
   "outputs": [],
   "source": [
    "np.median(x) "
   ]
  },
  {
   "cell_type": "code",
   "execution_count": null,
   "metadata": {
    "collapsed": false
   },
   "outputs": [],
   "source": [
    "np.abs(x) #absolute value"
   ]
  },
  {
   "cell_type": "markdown",
   "metadata": {},
   "source": [
    "### 1.5  `Quantity` attributes"
   ]
  },
  {
   "cell_type": "markdown",
   "metadata": {},
   "source": [
    "The units and value of a `Quantity` can be accessed separately via the ``value`` and ``unit`` attributes:"
   ]
  },
  {
   "cell_type": "code",
   "execution_count": null,
   "metadata": {
    "collapsed": false
   },
   "outputs": [],
   "source": [
    "q = 5. * u.Mpc"
   ]
  },
  {
   "cell_type": "code",
   "execution_count": null,
   "metadata": {
    "collapsed": false
   },
   "outputs": [],
   "source": [
    "q.value"
   ]
  },
  {
   "cell_type": "code",
   "execution_count": null,
   "metadata": {
    "collapsed": false
   },
   "outputs": [],
   "source": [
    "q.unit"
   ]
  },
  {
   "cell_type": "code",
   "execution_count": null,
   "metadata": {
    "collapsed": true
   },
   "outputs": [],
   "source": [
    "x = np.array([1.2, 2.2, 1.7]) * u.pc / u.year"
   ]
  },
  {
   "cell_type": "code",
   "execution_count": null,
   "metadata": {
    "collapsed": false
   },
   "outputs": [],
   "source": [
    "x.value"
   ]
  },
  {
   "cell_type": "code",
   "execution_count": null,
   "metadata": {
    "collapsed": false
   },
   "outputs": [],
   "source": [
    "x.unit"
   ]
  },
  {
   "cell_type": "markdown",
   "metadata": {},
   "source": [
    "### 1.6 Combining Quantities"
   ]
  },
  {
   "cell_type": "markdown",
   "metadata": {},
   "source": [
    "Quantities can also be combined using Python numeric operators:"
   ]
  },
  {
   "cell_type": "code",
   "execution_count": null,
   "metadata": {
    "collapsed": false
   },
   "outputs": [],
   "source": [
    "q1 = 3. * u.m / u.s\n",
    "q1"
   ]
  },
  {
   "cell_type": "code",
   "execution_count": null,
   "metadata": {
    "collapsed": false
   },
   "outputs": [],
   "source": [
    "q2 = 5. * u.cm / u.s / u.g**2\n",
    "q2"
   ]
  },
  {
   "cell_type": "code",
   "execution_count": null,
   "metadata": {
    "collapsed": false
   },
   "outputs": [],
   "source": [
    "q1 * q2"
   ]
  },
  {
   "cell_type": "code",
   "execution_count": null,
   "metadata": {
    "collapsed": false
   },
   "outputs": [],
   "source": [
    "q1 / q2"
   ]
  },
  {
   "cell_type": "code",
   "execution_count": null,
   "metadata": {
    "collapsed": false
   },
   "outputs": [],
   "source": [
    "q1 ** 2"
   ]
  },
  {
   "cell_type": "markdown",
   "metadata": {},
   "source": [
    "Addition and subtraction require compatible unit types. The cells below provide some examples. Note that the units don't have to be *the same* they only have to be *compatible* (i.e. both lengths or both times)"
   ]
  },
  {
   "cell_type": "code",
   "execution_count": null,
   "metadata": {
    "collapsed": false
   },
   "outputs": [],
   "source": [
    "q1 = 3 * u.m\n",
    "q1 + (5 * u.m)"
   ]
  },
  {
   "cell_type": "code",
   "execution_count": null,
   "metadata": {
    "collapsed": false
   },
   "outputs": [],
   "source": [
    "q1 + (5. * u.kpc)"
   ]
  },
  {
   "cell_type": "code",
   "execution_count": null,
   "metadata": {
    "collapsed": false,
    "scrolled": true
   },
   "outputs": [],
   "source": [
    "# this will fail because the units are not compatible\n",
    "q1 + (10. * u.km / u.s)"
   ]
  },
  {
   "cell_type": "markdown",
   "metadata": {},
   "source": [
    "### 1.7 Coverting units"
   ]
  },
  {
   "cell_type": "markdown",
   "metadata": {},
   "source": [
    "Units can be converted using the syntax [quantity or variable name].to(unit), as below"
   ]
  },
  {
   "cell_type": "code",
   "execution_count": null,
   "metadata": {
    "collapsed": false
   },
   "outputs": [],
   "source": [
    "(2.5 * u.year).to(u.s)"
   ]
  },
  {
   "cell_type": "code",
   "execution_count": null,
   "metadata": {
    "collapsed": false
   },
   "outputs": [],
   "source": [
    "(7. * u.deg**2).to(u.sr)"
   ]
  },
  {
   "cell_type": "code",
   "execution_count": null,
   "metadata": {
    "collapsed": false
   },
   "outputs": [],
   "source": [
    "q1.to(u.au)"
   ]
  },
  {
   "cell_type": "code",
   "execution_count": null,
   "metadata": {
    "collapsed": false
   },
   "outputs": [],
   "source": [
    "(55. * u.imperial.mile / u.h).to(u.km / u.h)"
   ]
  },
  {
   "cell_type": "code",
   "execution_count": null,
   "metadata": {
    "collapsed": false
   },
   "outputs": [],
   "source": [
    "q1 * q2"
   ]
  },
  {
   "cell_type": "code",
   "execution_count": null,
   "metadata": {
    "collapsed": false
   },
   "outputs": [],
   "source": [
    "(q1 * q2).to(u.m**2 / u.kg**2 / u.s)"
   ]
  },
  {
   "cell_type": "markdown",
   "metadata": {},
   "source": [
    "Constants are also quantities, thus they can be coverted to other units as well:"
   ]
  },
  {
   "cell_type": "code",
   "execution_count": null,
   "metadata": {
    "collapsed": false
   },
   "outputs": [],
   "source": [
    "R_earth.to(u.km)"
   ]
  },
  {
   "cell_type": "markdown",
   "metadata": {},
   "source": [
    "However, note that converting the constant alone results in just the scale factor between the two and no units"
   ]
  },
  {
   "cell_type": "code",
   "execution_count": null,
   "metadata": {
    "collapsed": false
   },
   "outputs": [],
   "source": [
    "(u.Msun).to(u.kg)"
   ]
  },
  {
   "cell_type": "code",
   "execution_count": null,
   "metadata": {
    "collapsed": false
   },
   "outputs": [],
   "source": [
    "# to keep the units, use a Quantity (value and unit)\n",
    "(1. * u.Msun).to(u.kg)"
   ]
  },
  {
   "cell_type": "markdown",
   "metadata": {},
   "source": [
    "### 1.8 Decomposing units"
   ]
  },
  {
   "cell_type": "markdown",
   "metadata": {},
   "source": [
    "Python/astropy will NOT combine units unless you ask it to. For example, the following multiplication will preserve both units, even though they are both lengths."
   ]
  },
  {
   "cell_type": "code",
   "execution_count": null,
   "metadata": {
    "collapsed": false
   },
   "outputs": [],
   "source": [
    "a = 8 * u.cm\n",
    "b = 10* u.m\n",
    "a*b"
   ]
  },
  {
   "cell_type": "markdown",
   "metadata": {},
   "source": [
    "However, if you explicitly tell it to, the units module can decompose a quantity into a set of base units using the\n",
    "``decompose()`` method. By default, units will be decomposed to S.I. units "
   ]
  },
  {
   "cell_type": "code",
   "execution_count": null,
   "metadata": {
    "collapsed": false
   },
   "outputs": [],
   "source": [
    "q = 3. * u.cm * u.pc / u.g / u.year**2\n",
    "q"
   ]
  },
  {
   "cell_type": "markdown",
   "metadata": {},
   "source": [
    "cm and pc are both units of length, so will be combined. The units provided will all also be converted to their SI equiavelents (length to m, mass to g, time to seconds)"
   ]
  },
  {
   "cell_type": "code",
   "execution_count": null,
   "metadata": {
    "collapsed": false
   },
   "outputs": [],
   "source": [
    "q.decompose()"
   ]
  },
  {
   "cell_type": "markdown",
   "metadata": {},
   "source": [
    "To decompose into c.g.s. bases:"
   ]
  },
  {
   "cell_type": "code",
   "execution_count": null,
   "metadata": {
    "collapsed": false
   },
   "outputs": [],
   "source": [
    "q.decompose(u.cgs.bases)"
   ]
  },
  {
   "cell_type": "markdown",
   "metadata": {},
   "source": [
    "Also convenient if you forget what cgs vs. si base units are is the bases attribute"
   ]
  },
  {
   "cell_type": "code",
   "execution_count": null,
   "metadata": {
    "collapsed": false
   },
   "outputs": [],
   "source": [
    "u.cgs.bases"
   ]
  },
  {
   "cell_type": "code",
   "execution_count": null,
   "metadata": {
    "collapsed": false
   },
   "outputs": [],
   "source": [
    "u.si.bases"
   ]
  },
  {
   "cell_type": "markdown",
   "metadata": {},
   "source": [
    "If you want units other than the SI/ CGS standard, you can then convert the output using .to, as before"
   ]
  },
  {
   "cell_type": "markdown",
   "metadata": {},
   "source": [
    "### An example\n",
    "\n",
    "Kepler's law can be used to estimate the (circular) orbital speed of the Earth around the sun using:\n",
    "\n",
    "$$v = \\sqrt{\\frac{G M_{\\odot}}{r}}$$"
   ]
  },
  {
   "cell_type": "code",
   "execution_count": null,
   "metadata": {
    "collapsed": false
   },
   "outputs": [],
   "source": [
    "v = np.sqrt(G * 1 * u.M_sun / (1 * u.au))\n",
    "v"
   ]
  },
  {
   "cell_type": "code",
   "execution_count": null,
   "metadata": {
    "collapsed": false
   },
   "outputs": [],
   "source": [
    "v.decompose()"
   ]
  },
  {
   "cell_type": "code",
   "execution_count": null,
   "metadata": {
    "collapsed": false
   },
   "outputs": [],
   "source": [
    "v.to(u.km / u.s)"
   ]
  },
  {
   "cell_type": "markdown",
   "metadata": {},
   "source": [
    "### Exercise 1a\n",
    "\n",
    "The *James Webb Space Telescope (JWST)* will be located at the second Sun-Earth Lagrange (L2) point, which is a special location in space where its orbital period will be equal to that of the Earth's, despite its greater distance from the Sun, so if it stays at this point, it will remain at a constant distance from Earth as both orbit the sun (see picture).  \n",
    "\n",
    "![](Lagrange_points.jpg)\n",
    "\n",
    "L2 is located opposite the Sun at a distance from the Earth of approximately:\n",
    "\n",
    "$$ r \\approx R \\left(\\frac{M_{earth}}{3 M_{sun}}\\right) ^{(1/3)} $$\n",
    "\n",
    "where $R$ is the Sun-Earth distance.\n",
    "\n",
    "Calculate the Earth-L2 distance in kilometers and miles:\n",
    "\n",
    "* *Hint*:  the mile unit is defined as ``u.imperial.mile`` (see [imperial units](http://docs.astropy.org/en/v0.2.1/units/index.html#module-astropy.units.imperial))"
   ]
  },
  {
   "cell_type": "code",
   "execution_count": null,
   "metadata": {
    "collapsed": false,
    "slideshow": {
     "slide_type": "-"
    }
   },
   "outputs": [],
   "source": [
    "# answer here (km)"
   ]
  },
  {
   "cell_type": "code",
   "execution_count": null,
   "metadata": {
    "collapsed": false
   },
   "outputs": [],
   "source": [
    "# answer here (mile)"
   ]
  },
  {
   "cell_type": "markdown",
   "metadata": {},
   "source": [
    "### Exercise 1b\n",
    "\n",
    "The L2 point is about 1.5 million kilometers away from the Earth opposite the Sun.\n",
    "The total mass of the *James Webb Space Telescope (JWST)* is about 6500 kg.\n",
    "\n",
    "Using the value you obtained above for the Earth-L2 distance, calculate the gravitational force in Newtons between \n",
    "\n",
    "* *JWST* (at L2) and the Earth\n",
    "* *JWST* (at L2) and the Sun\n",
    "\n",
    "*Hint*: the gravitational force between two masses separated by a distance *r* is:\n",
    "\n",
    "$$ F_g = \\frac{G m_1 m_2}{r^2} $$"
   ]
  },
  {
   "cell_type": "code",
   "execution_count": null,
   "metadata": {
    "collapsed": false
   },
   "outputs": [],
   "source": [
    "# answer here (Earth)"
   ]
  },
  {
   "cell_type": "code",
   "execution_count": null,
   "metadata": {
    "collapsed": false
   },
   "outputs": [],
   "source": [
    "# answer here (Sun)"
   ]
  },
  {
   "cell_type": "markdown",
   "metadata": {},
   "source": [
    "### Exercise 1c\n",
    "\n",
    "Insert a markdown cell below and write a paragraph describing the balance of forces acting on JWST at L2. Will JWST stay at L2 without help? Why or why not? "
   ]
  },
  {
   "cell_type": "markdown",
   "metadata": {},
   "source": [
    "### 1.9 Integration with Numpy ufuncs"
   ]
  },
  {
   "cell_type": "markdown",
   "metadata": {},
   "source": [
    "Most of the [Numpy](http://www.numpy.org) functions understand `Quantity` objects:"
   ]
  },
  {
   "cell_type": "code",
   "execution_count": null,
   "metadata": {
    "collapsed": false
   },
   "outputs": [],
   "source": [
    "np.sin(30 * u.degree)"
   ]
  },
  {
   "cell_type": "code",
   "execution_count": null,
   "metadata": {
    "collapsed": false
   },
   "outputs": [],
   "source": [
    "q = 100 * u.km * u.km\n",
    "q"
   ]
  },
  {
   "cell_type": "code",
   "execution_count": null,
   "metadata": {
    "collapsed": false
   },
   "outputs": [],
   "source": [
    "np.sqrt(q)"
   ]
  },
  {
   "cell_type": "code",
   "execution_count": null,
   "metadata": {
    "collapsed": false
   },
   "outputs": [],
   "source": [
    "np.exp(3 * u.m / (3 * u.km))"
   ]
  },
  {
   "cell_type": "markdown",
   "metadata": {},
   "source": [
    "Care needs to be taken with dimensionless units.  Passing dimensionless values to an inverse trigonometric function gives a result without units:"
   ]
  },
  {
   "cell_type": "code",
   "execution_count": null,
   "metadata": {
    "collapsed": false
   },
   "outputs": [],
   "source": [
    "np.arcsin(1.0)"
   ]
  },
  {
   "cell_type": "markdown",
   "metadata": {},
   "source": [
    "`u.dimensionless_unscaled` creates a ``Quantity`` with a \"dimensionless unit\" and therefore gives a result *with* units:"
   ]
  },
  {
   "cell_type": "code",
   "execution_count": null,
   "metadata": {
    "collapsed": false
   },
   "outputs": [],
   "source": [
    "np.arcsin(1.0 * u.dimensionless_unscaled)"
   ]
  },
  {
   "cell_type": "code",
   "execution_count": null,
   "metadata": {
    "collapsed": false
   },
   "outputs": [],
   "source": [
    "np.arcsin(1.0 * u.dimensionless_unscaled).to(u.degree)"
   ]
  },
  {
   "cell_type": "markdown",
   "metadata": {},
   "source": [
    "### 1.10 Known issues"
   ]
  },
  {
   "cell_type": "markdown",
   "metadata": {},
   "source": [
    "Quantities lose their units with some Numpy operations, e.g.:\n",
    "\n",
    "* np.dot\n",
    "* np.hstack\n",
    "* np.vstack\n",
    "* np.where\n",
    "* np.choose\n",
    "* np.vectorize\n",
    "\n",
    "See [Quantity Known Issues](http://docs.astropy.org/en/stable/known_issues.html#quantities-lose-their-units-with-some-operations) for more details."
   ]
  },
  {
   "cell_type": "markdown",
   "metadata": {},
   "source": [
    "### 1.11 Defining new units"
   ]
  },
  {
   "cell_type": "markdown",
   "metadata": {},
   "source": [
    "You can also define custom units for something that isn't built-in to astropy."
   ]
  },
  {
   "cell_type": "code",
   "execution_count": null,
   "metadata": {
    "collapsed": true
   },
   "outputs": [],
   "source": [
    "# fundamental unit\n",
    "chuckle = u.def_unit('chuckle')"
   ]
  },
  {
   "cell_type": "code",
   "execution_count": null,
   "metadata": {
    "collapsed": true
   },
   "outputs": [],
   "source": [
    "# compound unit\n",
    "laugh = u.def_unit('laugh', 4 * chuckle)"
   ]
  },
  {
   "cell_type": "code",
   "execution_count": null,
   "metadata": {
    "collapsed": false
   },
   "outputs": [],
   "source": [
    "(3 * laugh).to(chuckle)"
   ]
  },
  {
   "cell_type": "code",
   "execution_count": null,
   "metadata": {
    "collapsed": true
   },
   "outputs": [],
   "source": [
    "bakers_fortnight = u.def_unit('bakers_fortnight', 13 * u.day)"
   ]
  },
  {
   "cell_type": "code",
   "execution_count": null,
   "metadata": {
    "collapsed": false
   },
   "outputs": [],
   "source": [
    "(3 * bakers_fortnight).to(u.s)"
   ]
  },
  {
   "cell_type": "markdown",
   "metadata": {},
   "source": [
    "### Exercise 2\n",
    "\n",
    "Define units equal to the following (which you should look up or justify an estimate for)  \n",
    "a) the circumference of the earth   \n",
    "b) the diameter of the Milky Way galaxy  \n",
    "c) the distance across the US  \n",
    "d) the distance between two people holding hands  \n",
    "e) the mass of an elephant  \n",
    "\n",
    "Then, convert the following physical quantities into these units  \n",
    "\n",
    "a) the distance to the moon in earth circumferences  \n",
    "b) 1 Mpc (Mega parsec) to Milky Way Diameters  \n",
    "c) the distance across the US to human armspans (how many people holding hands could fit across the width of the US?)  \n",
    "d) the mass of Jupiter in elephants  "
   ]
  },
  {
   "cell_type": "code",
   "execution_count": null,
   "metadata": {
    "collapsed": true
   },
   "outputs": [],
   "source": []
  },
  {
   "cell_type": "markdown",
   "metadata": {
    "collapsed": true
   },
   "source": [
    "## 2. Typesetting Equations with LaTeX"
   ]
  },
  {
   "cell_type": "markdown",
   "metadata": {},
   "source": [
    "Jupyter markdown cells also understand a commonly-used typesetting language called LaTeX. LaTeX is used to compose most scientific publications. In fact, most scientific journals have custom \"style\" files that contain all of the rules about how to format documents for their publication (e.g. font size, font type, margins, etc.). We won't be using a standalone LaTeX editor in this class, but we will use LaTeX \"math mode\" syntax to insert equations into markdown cells as needed. LaTeX formats equations beautifully, and if you know this you'll never have to use Microsoft Word's equation editor again! \n",
    "\n",
    "The interpreter that reads Jupyter markdown cells is so-called \"MathJax aware\", which means it understands a subset of common LaTeX commands called MathJax. \n",
    "\n",
    "### 2.1 Equations\n",
    "\n",
    "Technically speaking, you shouldn't have to surround MathJax syntax with \\$ symbols, but in practice, you should, particularly if you have an equation embedded in a long block of text. The \\$ symbols tell the markdown cell explicitly that you want it to typeset an equation or symbol. \n",
    "\n",
    "For example, typing \\$ F = m \\times a \\$ in a markdown cell results in a nicely typeset $ F = m \\times a $. \n",
    "\n",
    "### 2.2 Special Symbols\n",
    "\n",
    "The \\\\times is an example of a command telling MathJax to insert a certain symbol. A list of common LaTeX symbols is [here](http://www.auburn.edu/~tamtiny/Symbols.pdf) for your reference, but note that MathJax is only a subset of LaTeX and may not recognize all of these. \n",
    "\n",
    "Particularly useful are the greek letters, almost all of which are denoted with a \\ plus their name, for example\n",
    "\\alpha is $\\alpha$\n",
    "\\omega is $\\omega$\n",
    "\n",
    "Some of the greek letters have both capital and lowercase versions, and you call the capital version just by capetalizing the first letter.  \n",
    "\\lambda is $\\lambda$, but \\Lambda is $\\Lambda$\n",
    "\n",
    "Also useful and perhaps unfamiliar to you are the symbols used in astronomy for the sun and earth  \n",
    "\\\\odot is the sun symbol $\\odot$  \n",
    "\\\\oplus is the earth symbol $\\oplus$  \n",
    "\n",
    "### 2.3 Subscripts and superscripts\n",
    "\n",
    "superscripts and subscripts are relatively easy. You use the underscore (\\_) to denote a subscript and the carrot (\\^) to denote a superscript. \n",
    "\n",
    "So, F\\_G results in $F_G$ and e^x results in $e^x$\n",
    "\n",
    "However, only the first letter following each symbol will be super or subscripted, so L\\_sun becomes $L_sun$, and, more dangerously e^2x becomes $e^2x$. So, if you want a multiletter sub- or super- script, then you should enclose the text with curly brackets. L\\_{sun} becomes $L_{sun}$ and e^{2x} becomes $e^{2x}$\n",
    "\n",
    "### 2.4 Fractions\n",
    "\n",
    "Fractions are done with the command \\frac{numerator}{denominator}, so \\frac{GMm}{r^2} results in \n",
    "\n",
    "$\\frac{GMm}{r^2}$"
   ]
  },
  {
   "cell_type": "markdown",
   "metadata": {
    "collapsed": true
   },
   "source": [
    "### 2.5 Other Special Symbols"
   ]
  },
  {
   "cell_type": "markdown",
   "metadata": {
    "collapsed": true
   },
   "source": [
    "See the link above for a more complete reference, but here are a few more particularly useful LaTeX commands\n",
    "\n",
    "\\sqrt{} for square root $\\sqrt{x}$  \n",
    "\\int{} for integral  $\\int{x^2dx}$  \n",
    "\\pm for plus or minus  $8\\pm2$  "
   ]
  },
  {
   "cell_type": "markdown",
   "metadata": {},
   "source": [
    "### Exercise 3\n",
    "Write all three versions of the wave equation that we saw today in class (general, vector, and complex exponential forms) in LaTeX syntax in a cell below."
   ]
  },
  {
   "cell_type": "code",
   "execution_count": null,
   "metadata": {
    "collapsed": true
   },
   "outputs": [],
   "source": []
  },
  {
   "cell_type": "markdown",
   "metadata": {},
   "source": [
    "# Exercise 4"
   ]
  },
  {
   "cell_type": "markdown",
   "metadata": {},
   "source": [
    "a) Make a markdown cell showing the equation for the double slit diffraction pattern mentioned in class, and describe/define the variables in text.   \n",
    "b) Find a diagram of double slit diffraction on the internet with the distances/variables in the equation labeled, download it, and display it in the notebook together with the equation and description of variables.  \n",
    "c) write a function that returns that diffraction pattern (intensity as a function of angle theta) as a plot  \n",
    "    * Hints:\n",
    "    i) I_0 is just a scaling factor. Set it equal to one or leave it out entirely  \n",
    "    ii) use the astropy units module! Your default inputs should be 0.01cm for d, 0.001cm for a and 600nm (red light) for wavelength.   \n",
    "    iii) any quantity for which you take a sin or cos should have an angle unit (u.radian or u.degree)  \n",
    "    iv) start with a range of angles (theta) from -10 to 10 degrees  \n",
    "d) experiment with changing the input. Describe what happens when you change d, a and wavelength.   \n",
    "e) Create a visualization to describe what happens to the diffraction pattern if white rather than monochromatic light is used  "
   ]
  },
  {
   "cell_type": "code",
   "execution_count": null,
   "metadata": {
    "collapsed": true
   },
   "outputs": [],
   "source": []
  }
 ],
 "metadata": {
  "anaconda-cloud": {},
  "kernelspec": {
   "display_name": "Python [default]",
   "language": "python",
   "name": "python3"
  },
  "language_info": {
   "codemirror_mode": {
    "name": "ipython",
    "version": 3
   },
   "file_extension": ".py",
   "mimetype": "text/x-python",
   "name": "python",
   "nbconvert_exporter": "python",
   "pygments_lexer": "ipython3",
   "version": "3.5.2"
  }
 },
 "nbformat": 4,
 "nbformat_minor": 0
}
