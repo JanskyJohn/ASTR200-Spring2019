{
 "cells": [
  {
   "cell_type": "markdown",
   "metadata": {},
   "source": [
    "<small><i>This notebook is based on one put together by [Jake Vanderplas](http://www.vanderplas.com) and has been modified to suit the purposes of this course, including expansion/modification of explanations and additional exercises. Source and license info for the original is on [GitHub](https://github.com/jakevdp/2014_fall_ASTR599/).</i></small>"
   ]
  },
  {
   "cell_type": "markdown",
   "metadata": {},
   "source": [
    "### *** Names: [Insert Your Names Here]***"
   ]
  },
  {
   "cell_type": "markdown",
   "metadata": {
    "slideshow": {
     "slide_type": "slide"
    }
   },
   "source": [
    "# Lab 6 -  Advanced Data Structures\n",
    "\n",
    "## Lab 6 Contents\n",
    "1. Tuples\n",
    "  * Defining Tuples\n",
    "  * Indexing Tuples\n",
    "  * Tuple Modification\n",
    "2. Lists\n",
    "  * Defining Lists\n",
    "  * Indexing Lists\n",
    "  * Extending and Appending Lists\n",
    "  * Searching, Sorting and Counting Lists\n",
    "  * Exploring List Methods\n",
    "  * Iterating over lists\n",
    "  * The range function\n",
    "  * Creating lists on the fly\n",
    "3. Sets\n",
    "4. Dictionaries\n",
    " * Defining Disctionaries\n",
    " * Dictionary Keys\n",
    "\n",
    "This lab will introduce you to four new types of Python objects that allow you to collect data of arbitraty (and often mixed) type in Python, and these are known as \"Sequence objects\"\n",
    "\n",
    "- ``tuple`` : an immutable ordered array of data\n",
    "- ``list`` : a mutable ordered array of data\n",
    "- ``set`` : an unordered collection of unique elements\n",
    "- ``dict`` : an unordered mapping from keys to values\n"
   ]
  },
  {
   "cell_type": "code",
   "execution_count": null,
   "metadata": {
    "collapsed": true
   },
   "outputs": [],
   "source": [
    "from numpy import *"
   ]
  },
  {
   "cell_type": "markdown",
   "metadata": {
    "slideshow": {
     "slide_type": "slide"
    }
   },
   "source": [
    "## 1. Tuples\n",
    "\n",
    "### 1.1 Defining Tuples\n",
    "\n",
    "Tuples are denoted with round parentheses"
   ]
  },
  {
   "cell_type": "code",
   "execution_count": null,
   "metadata": {
    "collapsed": false,
    "slideshow": {
     "slide_type": "fragment"
    }
   },
   "outputs": [],
   "source": [
    "t = (12, -1)\n",
    "type(t)"
   ]
  },
  {
   "cell_type": "markdown",
   "metadata": {},
   "source": [
    "If you'd like to test whether an object is a tuple (or any other type of object), you can use the python function *isinstance*"
   ]
  },
  {
   "cell_type": "code",
   "execution_count": null,
   "metadata": {
    "collapsed": false
   },
   "outputs": [],
   "source": [
    "isinstance(t,tuple)"
   ]
  },
  {
   "cell_type": "code",
   "execution_count": null,
   "metadata": {
    "collapsed": false
   },
   "outputs": [],
   "source": [
    "isinstance(t,list)"
   ]
  },
  {
   "cell_type": "markdown",
   "metadata": {},
   "source": [
    "Tuples have lengths just like other types of Python objects"
   ]
  },
  {
   "cell_type": "code",
   "execution_count": null,
   "metadata": {
    "collapsed": false,
    "slideshow": {
     "slide_type": "fragment"
    }
   },
   "outputs": [],
   "source": [
    "print(len(t))"
   ]
  },
  {
   "cell_type": "markdown",
   "metadata": {
    "slideshow": {
     "slide_type": "fragment"
    }
   },
   "source": [
    "and you can mix types within a tuple"
   ]
  },
  {
   "cell_type": "code",
   "execution_count": null,
   "metadata": {
    "collapsed": false,
    "slideshow": {
     "slide_type": "fragment"
    }
   },
   "outputs": [],
   "source": [
    "t = (12, \"monty\", True, -1.23e6)\n",
    "t"
   ]
  },
  {
   "cell_type": "markdown",
   "metadata": {
    "slideshow": {
     "slide_type": "fragment"
    }
   },
   "source": [
    "### 1.2 Indexing Tuples \n",
    "\n",
    "Indexing works the same way as for arrays:"
   ]
  },
  {
   "cell_type": "code",
   "execution_count": null,
   "metadata": {
    "collapsed": false
   },
   "outputs": [],
   "source": [
    "t[0]"
   ]
  },
  {
   "cell_type": "code",
   "execution_count": null,
   "metadata": {
    "collapsed": false,
    "slideshow": {
     "slide_type": "fragment"
    }
   },
   "outputs": [],
   "source": [
    "t[-1]"
   ]
  },
  {
   "cell_type": "code",
   "execution_count": null,
   "metadata": {
    "collapsed": false,
    "slideshow": {
     "slide_type": "fragment"
    }
   },
   "outputs": [],
   "source": [
    "t[-2:]  # get the last two elements, return as a tuple"
   ]
  },
  {
   "cell_type": "markdown",
   "metadata": {},
   "source": [
    "Single element tuples look like (element,) rather than (element)"
   ]
  },
  {
   "cell_type": "code",
   "execution_count": null,
   "metadata": {
    "collapsed": false,
    "slideshow": {
     "slide_type": "fragment"
    }
   },
   "outputs": [],
   "source": [
    "x = (True) ; print(type(x))  #by the way, did you know you can execute two commands on one line with a semicolon?\n",
    "x = (True,) ; print(type(x))"
   ]
  },
  {
   "cell_type": "code",
   "execution_count": null,
   "metadata": {
    "collapsed": false,
    "slideshow": {
     "slide_type": "fragment"
    }
   },
   "outputs": [],
   "source": [
    "x = ()\n",
    "type(x), len(x) #and you can also return multiple things to the output of a notebook cell with commas"
   ]
  },
  {
   "cell_type": "markdown",
   "metadata": {},
   "source": [
    "### 1.3 Tuple Modification\n",
    "\n",
    "Tuples cannot be modified. The following cell will spit out an error. "
   ]
  },
  {
   "cell_type": "code",
   "execution_count": null,
   "metadata": {
    "collapsed": false
   },
   "outputs": [],
   "source": [
    "t[2] = False"
   ]
  },
  {
   "cell_type": "markdown",
   "metadata": {
    "slideshow": {
     "slide_type": "fragment"
    }
   },
   "source": [
    "but you can create a new tuple by combining elements from other tuples"
   ]
  },
  {
   "cell_type": "code",
   "execution_count": null,
   "metadata": {
    "collapsed": false,
    "slideshow": {
     "slide_type": "fragment"
    }
   },
   "outputs": [],
   "source": [
    "newt = t[0:2], False, t[3:]\n",
    "type(newt), newt"
   ]
  },
  {
   "cell_type": "markdown",
   "metadata": {},
   "source": [
    "Note the above did something, but not exactly what you might think. It created a three element tuple, where the first (index 0) and third (index 2) elements are themselves tuples"
   ]
  },
  {
   "cell_type": "code",
   "execution_count": null,
   "metadata": {
    "collapsed": false
   },
   "outputs": [],
   "source": [
    "len(newt), type(newt[0]), type(newt[1]), type(newt[2])"
   ]
  },
  {
   "cell_type": "markdown",
   "metadata": {},
   "source": [
    "This can have its uses, but more often you will want to create a tuple identical to the original but with different elements, for which we use concatenation instead, just like we did with strings.\n",
    "\n",
    "But concatenation is tricky. What's wrong with the following statement?"
   ]
  },
  {
   "cell_type": "code",
   "execution_count": null,
   "metadata": {
    "collapsed": false,
    "slideshow": {
     "slide_type": "fragment"
    }
   },
   "outputs": [],
   "source": [
    "t[0:2] + False + t[3:]"
   ]
  },
  {
   "cell_type": "markdown",
   "metadata": {},
   "source": [
    "similarly:"
   ]
  },
  {
   "cell_type": "code",
   "execution_count": null,
   "metadata": {
    "collapsed": false
   },
   "outputs": [],
   "source": [
    "'I can not concatenate things like ' + 7 + ' and ' + 'monkeys' "
   ]
  },
  {
   "cell_type": "markdown",
   "metadata": {},
   "source": [
    "You can only concatenate objects of the same type, so you have to use the trick for a single element tuple, as described above"
   ]
  },
  {
   "cell_type": "code",
   "execution_count": null,
   "metadata": {
    "collapsed": false,
    "slideshow": {
     "slide_type": "fragment"
    }
   },
   "outputs": [],
   "source": [
    "y = t[0:2] + (False,) + t[3:]\n",
    "y"
   ]
  },
  {
   "cell_type": "markdown",
   "metadata": {},
   "source": [
    "So tuples are immutable, but not indestructible. Once we've defined a new one, we can assign it to x and overwrite the original if we really want to"
   ]
  },
  {
   "cell_type": "code",
   "execution_count": null,
   "metadata": {
    "collapsed": false
   },
   "outputs": [],
   "source": [
    "x=y\n",
    "x"
   ]
  },
  {
   "cell_type": "markdown",
   "metadata": {},
   "source": [
    "Similarly, we could have done this without assigning a the new variable, but note that this erases memory if the original. "
   ]
  },
  {
   "cell_type": "code",
   "execution_count": null,
   "metadata": {
    "collapsed": false
   },
   "outputs": [],
   "source": [
    "t = t[0:2] + (False,) + t[3:]\n",
    "t"
   ]
  },
  {
   "cell_type": "markdown",
   "metadata": {},
   "source": [
    "Like strings, you can also \"multiply\" tuples to duplicate elements"
   ]
  },
  {
   "cell_type": "code",
   "execution_count": null,
   "metadata": {
    "collapsed": false,
    "slideshow": {
     "slide_type": "fragment"
    }
   },
   "outputs": [],
   "source": [
    "t * 2"
   ]
  },
  {
   "cell_type": "markdown",
   "metadata": {
    "slideshow": {
     "slide_type": "fragment"
    }
   },
   "source": [
    "Tuples are most commonly used in functions that return multiple arguments."
   ]
  },
  {
   "cell_type": "markdown",
   "metadata": {
    "slideshow": {
     "slide_type": "slide"
    }
   },
   "source": [
    "## 2. Lists\n",
    "\n",
    "### 2.1 Defining Lists\n",
    "Python lists are denoted with square brackets. We've dealt with them indirectly a bit already in this class, but it's worth discussing them explicitly here. "
   ]
  },
  {
   "cell_type": "code",
   "execution_count": null,
   "metadata": {
    "collapsed": false,
    "slideshow": {
     "slide_type": "fragment"
    }
   },
   "outputs": [],
   "source": [
    "v = [1,2,3]\n",
    "print(len(v))\n",
    "print(type(v))"
   ]
  },
  {
   "cell_type": "markdown",
   "metadata": {},
   "source": [
    "### 2.2 Indexing Lists\n",
    "\n",
    "Lists can be indexed"
   ]
  },
  {
   "cell_type": "code",
   "execution_count": null,
   "metadata": {
    "collapsed": false,
    "slideshow": {
     "slide_type": "fragment"
    }
   },
   "outputs": [],
   "source": [
    "v[0:2], v[-1]"
   ]
  },
  {
   "cell_type": "code",
   "execution_count": null,
   "metadata": {
    "collapsed": false
   },
   "outputs": [],
   "source": [
    "v = v[2:]\n",
    "print(v)"
   ]
  },
  {
   "cell_type": "markdown",
   "metadata": {},
   "source": [
    "Lists can contain multiple data types, including tuples and other lists"
   ]
  },
  {
   "cell_type": "code",
   "execution_count": null,
   "metadata": {
    "collapsed": false,
    "slideshow": {
     "slide_type": "fragment"
    }
   },
   "outputs": [],
   "source": [
    "v = [\"eggs\", \"spam\", -1, (\"monty\",\"python\"), [-1.2,-3.5]]\n",
    "len(v)"
   ]
  },
  {
   "cell_type": "markdown",
   "metadata": {},
   "source": [
    "Unlike tuples, however, lists are mutable. "
   ]
  },
  {
   "cell_type": "code",
   "execution_count": null,
   "metadata": {
    "collapsed": false,
    "slideshow": {
     "slide_type": "fragment"
    }
   },
   "outputs": [],
   "source": [
    "v[0] =\"green egg\"\n",
    "v[1] += \",love it.\" # this takes what's already in v[1] and adds what comes after +=\n",
    "v"
   ]
  },
  {
   "cell_type": "markdown",
   "metadata": {},
   "source": [
    "You can index multi-element objects within a list as well, but in this case, you index *variable\\[list element index\\]\\[index of thing you want\\]*, as below. Note this is slightly different from the way you were taught to index a numpy array with arrayname[column,row], but the same syntax actually works with numpy arrays (arrayname\\[column\\]\\[row\\])"
   ]
  },
  {
   "cell_type": "code",
   "execution_count": null,
   "metadata": {
    "collapsed": false,
    "slideshow": {
     "slide_type": "fragment"
    }
   },
   "outputs": [],
   "source": [
    "v[-1][1] = None\n",
    "print(v)"
   ]
  },
  {
   "cell_type": "code",
   "execution_count": null,
   "metadata": {
    "collapsed": false
   },
   "outputs": [],
   "source": [
    "z = array([[1,2],[3,4]])\n",
    "z[0][1], z[0,1]"
   ]
  },
  {
   "cell_type": "markdown",
   "metadata": {},
   "source": [
    "<div class=sidebar>\n",
    "### Sidebar: *A Note on lists vs. arrays*\n",
    "\n",
    "In fact, lists can be made to look a lot like numpy arrays (e.g. vv = [ [1,2], [3,4] ] makes a list that looks just like the numpy array above), but it's important to note that the properties of a list object are slightly diffferent. Specifically:\n",
    "* Since a list contains pointers to a bunch of python objects, it takes more memory to store an array in list format than as an array (which points to a single object in memory). Operations on large arrays will be much faster than on equivalent lists, because list operations require a variety of type checks, etc. \n",
    "* Many mathematical operations, particularly matrix operations, will only work on numpy arrays\n",
    "* Lists support insertion, deletion, appending and concatenation in ways that arrays do not, as detailed in the next section\n",
    "\n",
    "So each is useful for its own thing. Lists are useful for storing mixed type objects associated with one another and their mutability allows insertion, deletion, etc. Arrays are useful for storing and operating on large matrices of numbers. "
   ]
  },
  {
   "cell_type": "markdown",
   "metadata": {
    "slideshow": {
     "slide_type": "slide"
    }
   },
   "source": [
    "### 2.3 Extending and Appending Lists"
   ]
  },
  {
   "cell_type": "markdown",
   "metadata": {},
   "source": [
    "#### Useful list methods:\n",
    "\n",
    " * `.append()`: adds a new element\n",
    " * `.extend()`: concatenates a list/element\n",
    " * `.pop()`: remove an element"
   ]
  },
  {
   "cell_type": "code",
   "execution_count": null,
   "metadata": {
    "collapsed": false,
    "slideshow": {
     "slide_type": "fragment"
    }
   },
   "outputs": [],
   "source": [
    "v = [1,2,3]\n",
    "v.append(4)\n",
    "v.append([-5])\n",
    "v"
   ]
  },
  {
   "cell_type": "markdown",
   "metadata": {
    "slideshow": {
     "slide_type": "fragment"
    }
   },
   "source": [
    "Note: lists can be considered objects.  **Objects** are collections of data and associated\n",
    "**methods**.  In the case of a list, ``append`` is a method: it is a function\n",
    "associated with the object."
   ]
  },
  {
   "cell_type": "code",
   "execution_count": null,
   "metadata": {
    "collapsed": false,
    "slideshow": {
     "slide_type": "fragment"
    }
   },
   "outputs": [],
   "source": [
    "v = v[:4]\n",
    "w = ['elderberries', 'eggs']\n",
    "v + w"
   ]
  },
  {
   "cell_type": "code",
   "execution_count": null,
   "metadata": {
    "collapsed": false,
    "slideshow": {
     "slide_type": "fragment"
    }
   },
   "outputs": [],
   "source": [
    "v"
   ]
  },
  {
   "cell_type": "code",
   "execution_count": null,
   "metadata": {
    "collapsed": false,
    "slideshow": {
     "slide_type": "fragment"
    }
   },
   "outputs": [],
   "source": [
    "v.extend(w)\n",
    "v"
   ]
  },
  {
   "cell_type": "code",
   "execution_count": null,
   "metadata": {
    "collapsed": false,
    "slideshow": {
     "slide_type": "fragment"
    }
   },
   "outputs": [],
   "source": [
    "z = v.pop()\n",
    "z"
   ]
  },
  {
   "cell_type": "code",
   "execution_count": null,
   "metadata": {
    "collapsed": false,
    "slideshow": {
     "slide_type": "fragment"
    }
   },
   "outputs": [],
   "source": [
    "v"
   ]
  },
  {
   "cell_type": "code",
   "execution_count": null,
   "metadata": {
    "collapsed": false,
    "slideshow": {
     "slide_type": "fragment"
    }
   },
   "outputs": [],
   "source": [
    "v.pop(0) ## pop the first element"
   ]
  },
  {
   "cell_type": "code",
   "execution_count": null,
   "metadata": {
    "collapsed": false,
    "slideshow": {
     "slide_type": "fragment"
    }
   },
   "outputs": [],
   "source": [
    "v"
   ]
  },
  {
   "cell_type": "markdown",
   "metadata": {
    "slideshow": {
     "slide_type": "slide"
    }
   },
   "source": [
    "### 2.4 Searching, Sorting, and Counting Lists"
   ]
  },
  {
   "cell_type": "code",
   "execution_count": null,
   "metadata": {
    "collapsed": false,
    "slideshow": {
     "slide_type": "fragment"
    }
   },
   "outputs": [],
   "source": [
    "v = [1, 3, 2, 3, 4]\n",
    "v.sort()\n",
    "v"
   ]
  },
  {
   "cell_type": "markdown",
   "metadata": {
    "slideshow": {
     "slide_type": "fragment"
    }
   },
   "source": [
    "`reverse` is a *keyword* of the `.sort()` method"
   ]
  },
  {
   "cell_type": "code",
   "execution_count": null,
   "metadata": {
    "collapsed": false,
    "slideshow": {
     "slide_type": "fragment"
    }
   },
   "outputs": [],
   "source": [
    "v.sort(reverse=True)\n",
    "v"
   ]
  },
  {
   "cell_type": "markdown",
   "metadata": {
    "slideshow": {
     "slide_type": "fragment"
    }
   },
   "source": [
    "`.sort()` changes the the list in place "
   ]
  },
  {
   "cell_type": "code",
   "execution_count": null,
   "metadata": {
    "collapsed": false,
    "slideshow": {
     "slide_type": "fragment"
    }
   },
   "outputs": [],
   "source": [
    "v.index(4)   ## lookup the index of the entry 4"
   ]
  },
  {
   "cell_type": "code",
   "execution_count": null,
   "metadata": {
    "collapsed": false,
    "slideshow": {
     "slide_type": "fragment"
    }
   },
   "outputs": [],
   "source": [
    "v.index(3)"
   ]
  },
  {
   "cell_type": "code",
   "execution_count": null,
   "metadata": {
    "collapsed": false,
    "slideshow": {
     "slide_type": "fragment"
    }
   },
   "outputs": [],
   "source": [
    "v.count(3)"
   ]
  },
  {
   "cell_type": "code",
   "execution_count": null,
   "metadata": {
    "collapsed": false,
    "slideshow": {
     "slide_type": "fragment"
    }
   },
   "outputs": [],
   "source": [
    "v.insert(0, \"it's full of stars\")\n",
    "v"
   ]
  },
  {
   "cell_type": "code",
   "execution_count": null,
   "metadata": {
    "collapsed": false,
    "slideshow": {
     "slide_type": "fragment"
    }
   },
   "outputs": [],
   "source": [
    "v.remove(1)\n",
    "v"
   ]
  },
  {
   "cell_type": "markdown",
   "metadata": {
    "slideshow": {
     "slide_type": "slide"
    }
   },
   "source": [
    "### 2.5 Exploring List Methods\n",
    "\n",
    "Jupyter is your new best friend: it's tab-completion allows you to\n",
    "explore all methods available to an object.  (This only works in jupyter, not in the command line)\n",
    "\n",
    "Type\n",
    "```\n",
    "v.\n",
    "```\n",
    "and then the tab key to see all the available methods:"
   ]
  },
  {
   "cell_type": "code",
   "execution_count": null,
   "metadata": {
    "collapsed": false,
    "slideshow": {
     "slide_type": "fragment"
    }
   },
   "outputs": [],
   "source": [
    "v."
   ]
  },
  {
   "cell_type": "markdown",
   "metadata": {
    "slideshow": {
     "slide_type": "fragment"
    }
   },
   "source": [
    "Once you find a method, type (for example)\n",
    "```\n",
    "v.index?\n",
    "```\n",
    "and press shift-enter: you'll see the documentation of the method"
   ]
  },
  {
   "cell_type": "code",
   "execution_count": null,
   "metadata": {
    "collapsed": false,
    "slideshow": {
     "slide_type": "fragment"
    }
   },
   "outputs": [],
   "source": [
    "v.index?"
   ]
  },
  {
   "cell_type": "markdown",
   "metadata": {
    "slideshow": {
     "slide_type": "fragment"
    }
   },
   "source": [
    "**This is probably the most important thing you'll learn today**"
   ]
  },
  {
   "cell_type": "markdown",
   "metadata": {
    "slideshow": {
     "slide_type": "slide"
    }
   },
   "source": [
    "### 2.6  Iterating Over Lists"
   ]
  },
  {
   "cell_type": "code",
   "execution_count": null,
   "metadata": {
    "collapsed": false,
    "slideshow": {
     "slide_type": "fragment"
    }
   },
   "outputs": [],
   "source": [
    "a = ['cat', 'window', 'defenestrate']\n",
    "for x in a:\n",
    "    print(x, len(x))"
   ]
  },
  {
   "cell_type": "code",
   "execution_count": null,
   "metadata": {
    "collapsed": false,
    "slideshow": {
     "slide_type": "fragment"
    }
   },
   "outputs": [],
   "source": [
    "#enumerate is a useful command that returns ordered pairs of the form \n",
    "#(index, array element) for all of the elements in a list\n",
    "for i,x in enumerate(a):\n",
    "    print(i, x, len(x))"
   ]
  },
  {
   "cell_type": "code",
   "execution_count": null,
   "metadata": {
    "collapsed": false,
    "slideshow": {
     "slide_type": "fragment"
    }
   },
   "outputs": [],
   "source": [
    "# print all the elements in the list with spaces between\n",
    "for x in a:\n",
    "    print(x, end=' ')"
   ]
  },
  {
   "cell_type": "markdown",
   "metadata": {
    "slideshow": {
     "slide_type": "fragment"
    }
   },
   "source": [
    "The syntax for iteration is...  \n",
    "\n",
    "    for variable_name in iterable:\n",
    "       # do something with variable_name"
   ]
  },
  {
   "cell_type": "markdown",
   "metadata": {},
   "source": [
    "### 2.7 The ``range()`` function"
   ]
  },
  {
   "cell_type": "markdown",
   "metadata": {
    "slideshow": {
     "slide_type": "slide"
    }
   },
   "source": [
    "The `range()` function creates a list of integers\n",
    "\n",
    "(actually an iterator, but think of it as a list)"
   ]
  },
  {
   "cell_type": "code",
   "execution_count": null,
   "metadata": {
    "collapsed": false,
    "slideshow": {
     "slide_type": "fragment"
    }
   },
   "outputs": [],
   "source": [
    "x = range(4)\n",
    "x"
   ]
  },
  {
   "cell_type": "code",
   "execution_count": null,
   "metadata": {
    "collapsed": false,
    "slideshow": {
     "slide_type": "fragment"
    }
   },
   "outputs": [],
   "source": [
    "total = 0\n",
    "for val in range(4):\n",
    "    total += val\n",
    "    print(\"By adding \" + str(val) + \\\n",
    "          \" the total is now \" + str(total))"
   ]
  },
  {
   "cell_type": "markdown",
   "metadata": {
    "slideshow": {
     "slide_type": "fragment"
    }
   },
   "source": [
    "\n",
    "`range`([`start`,] `stop`[, `step`])\n",
    "→ list of integers"
   ]
  },
  {
   "cell_type": "code",
   "execution_count": null,
   "metadata": {
    "collapsed": false,
    "slideshow": {
     "slide_type": "fragment"
    }
   },
   "outputs": [],
   "source": [
    "total = 0\n",
    "for val in range(1, 10, 2):\n",
    "    total += val\n",
    "    print(\"By adding \" + str(val) + \\\n",
    "          \" the total is now \" + str(total))"
   ]
  },
  {
   "cell_type": "markdown",
   "metadata": {},
   "source": [
    "In practice, this is equivalent to the python arange command that you've already seen, but note that arange creates a numpy array with all of the elements between the start and stop point, and is therefore more efficient for large loops. Still, it's usefult to be aware of range as well. arange can also be used on non-integers, which is quite useful. Note that the second cell below will result in an error. "
   ]
  },
  {
   "cell_type": "code",
   "execution_count": null,
   "metadata": {
    "collapsed": false
   },
   "outputs": [],
   "source": [
    "y = arange(4)\n",
    "y"
   ]
  },
  {
   "cell_type": "code",
   "execution_count": null,
   "metadata": {
    "collapsed": false
   },
   "outputs": [],
   "source": [
    "z = range(0,10,0.1)"
   ]
  },
  {
   "cell_type": "markdown",
   "metadata": {},
   "source": [
    "### 2.8 Creating Lists on-the-fly\n",
    "\n",
    "**Example:** imagine you want a list of all numbers from 0 to 100 which are divisible by 7 **or** 11."
   ]
  },
  {
   "cell_type": "code",
   "execution_count": null,
   "metadata": {
    "collapsed": true
   },
   "outputs": [],
   "source": [
    "L = []  #before populating the list, you must first define it!\n",
    "for num in range(100):\n",
    "    if (num % 7 == 0) or (num % 11 == 0):  #recall that % is the \"mod\" function\n",
    "        L.append(num)\n",
    "print(L)"
   ]
  },
  {
   "cell_type": "markdown",
   "metadata": {},
   "source": [
    "We can also do this with a list comprehension:"
   ]
  },
  {
   "cell_type": "code",
   "execution_count": null,
   "metadata": {
    "collapsed": true
   },
   "outputs": [],
   "source": [
    "L = [num for num in range(100) if (num % 7 == 0) or (num % 11 == 0)]\n",
    "print(L)"
   ]
  },
  {
   "cell_type": "code",
   "execution_count": null,
   "metadata": {
    "collapsed": true
   },
   "outputs": [],
   "source": [
    "# Can also operate on each element:\n",
    "L = [2 * num for num in range(100) if (num % 7 == 0) or (num % 11 == 0)]\n",
    "print(L)"
   ]
  },
  {
   "cell_type": "markdown",
   "metadata": {
    "slideshow": {
     "slide_type": "slide"
    }
   },
   "source": [
    "<div class=hw>\n",
    "### Exercise 1\n",
    "----------\n",
    "\n",
    "Write a loop over the words in this list and print the words longer than three characters in length:"
   ]
  },
  {
   "cell_type": "code",
   "execution_count": null,
   "metadata": {
    "collapsed": false,
    "slideshow": {
     "slide_type": "fragment"
    }
   },
   "outputs": [],
   "source": [
    "L = [\"Oh\", \"Say\", \"does\", \"that\", \"star\",\n",
    "     \"spangled\", \"banner\", \"yet\", \"wave\"]\n"
   ]
  },
  {
   "cell_type": "markdown",
   "metadata": {
    "slideshow": {
     "slide_type": "slide"
    }
   },
   "source": [
    "## 3. Sets\n",
    "Sets can be thought of as unordered lists of unique items\n",
    "\n",
    "Sets are denoted with a curly braces"
   ]
  },
  {
   "cell_type": "code",
   "execution_count": null,
   "metadata": {
    "collapsed": false,
    "slideshow": {
     "slide_type": "fragment"
    }
   },
   "outputs": [],
   "source": [
    "{1,2,3,\"bingo\"}"
   ]
  },
  {
   "cell_type": "markdown",
   "metadata": {},
   "source": [
    "The uniqueness aspect is the key here. Note that the output of the cell below is the same as the one above."
   ]
  },
  {
   "cell_type": "code",
   "execution_count": null,
   "metadata": {
    "collapsed": false
   },
   "outputs": [],
   "source": [
    "{1,2,3,\"bingo\",3}"
   ]
  },
  {
   "cell_type": "code",
   "execution_count": null,
   "metadata": {
    "collapsed": false,
    "slideshow": {
     "slide_type": "fragment"
    }
   },
   "outputs": [],
   "source": [
    "type({1,2,3,\"bingo\"})"
   ]
  },
  {
   "cell_type": "markdown",
   "metadata": {},
   "source": [
    "The set function will make a set out of whatever is provided. "
   ]
  },
  {
   "cell_type": "code",
   "execution_count": null,
   "metadata": {
    "collapsed": false,
    "slideshow": {
     "slide_type": "fragment"
    }
   },
   "outputs": [],
   "source": [
    "set(\"spamIam\")"
   ]
  },
  {
   "cell_type": "markdown",
   "metadata": {
    "slideshow": {
     "slide_type": "fragment"
    }
   },
   "source": [
    "sets have unique elements. They can be\n",
    "compared, differenced, unionized, etc."
   ]
  },
  {
   "cell_type": "code",
   "execution_count": null,
   "metadata": {
    "collapsed": false,
    "slideshow": {
     "slide_type": "fragment"
    }
   },
   "outputs": [],
   "source": [
    "a = set(\"sp\")\n",
    "b = set(\"am\")\n",
    "print(a, b)"
   ]
  },
  {
   "cell_type": "code",
   "execution_count": null,
   "metadata": {
    "collapsed": false,
    "slideshow": {
     "slide_type": "fragment"
    }
   },
   "outputs": [],
   "source": [
    "c = set([\"a\",\"m\"])\n",
    "c == b"
   ]
  },
  {
   "cell_type": "code",
   "execution_count": null,
   "metadata": {
    "collapsed": false,
    "slideshow": {
     "slide_type": "fragment"
    }
   },
   "outputs": [],
   "source": [
    "\"p\" in a"
   ]
  },
  {
   "cell_type": "code",
   "execution_count": null,
   "metadata": {
    "collapsed": false
   },
   "outputs": [],
   "source": [
    "a | b"
   ]
  },
  {
   "cell_type": "markdown",
   "metadata": {
    "slideshow": {
     "slide_type": "slide"
    }
   },
   "source": [
    "## 4. Dictionaries\n",
    "\n",
    "### 4.1 Defining Dictionaries\n",
    "\n",
    "Dictionaries are one-to-one mappings of objects. They are often useful when you want to assign multiple named properties to individuals. Each entry in a dictionary has a set of \"keys\" that can be assigned unique values. \n",
    "\n",
    "We'll show four ways to make a Dictionary"
   ]
  },
  {
   "cell_type": "code",
   "execution_count": null,
   "metadata": {
    "collapsed": false,
    "slideshow": {
     "slide_type": "fragment"
    }
   },
   "outputs": [],
   "source": [
    "# number 1... curly braces & colons\n",
    "d = {\"favorite cat\": None,\n",
    "     \"favorite spam\": \"all\"}\n",
    "d"
   ]
  },
  {
   "cell_type": "code",
   "execution_count": null,
   "metadata": {
    "collapsed": false,
    "slideshow": {
     "slide_type": "fragment"
    }
   },
   "outputs": [],
   "source": [
    "# number 2\n",
    "d = dict(one = 1, two=2, cat='dog')\n",
    "d"
   ]
  },
  {
   "cell_type": "code",
   "execution_count": null,
   "metadata": {
    "collapsed": false,
    "slideshow": {
     "slide_type": "fragment"
    }
   },
   "outputs": [],
   "source": [
    "# number 3 ... just start filling in items/keys\n",
    "d = {}  # empty dictionary\n",
    "d['cat'] = 'dog'\n",
    "d['one'] = 1\n",
    "d['two'] = 2\n",
    "d"
   ]
  },
  {
   "cell_type": "code",
   "execution_count": null,
   "metadata": {
    "collapsed": false,
    "slideshow": {
     "slide_type": "fragment"
    }
   },
   "outputs": [],
   "source": [
    "# number 4... start with a list of tuples and then use the dict function to create a dictionary with them\n",
    "mylist = [(\"cat\",\"dog\"), (\"one\",1), (\"two\",2)]\n",
    "dict(mylist)"
   ]
  },
  {
   "cell_type": "code",
   "execution_count": null,
   "metadata": {
    "collapsed": false,
    "slideshow": {
     "slide_type": "fragment"
    }
   },
   "outputs": [],
   "source": [
    "dict(mylist) == d"
   ]
  },
  {
   "cell_type": "markdown",
   "metadata": {
    "slideshow": {
     "slide_type": "slide"
    }
   },
   "source": [
    "### 4.2 Dictionary Keys\n",
    "\n",
    "Note that there is no guaranteed order in a dictionary, thus they cannot be indexed numerically!"
   ]
  },
  {
   "cell_type": "code",
   "execution_count": null,
   "metadata": {
    "collapsed": true,
    "slideshow": {
     "slide_type": "fragment"
    }
   },
   "outputs": [],
   "source": [
    "d = {\"favorite cat\": None, \"favorite spam\": \"all\"}"
   ]
  },
  {
   "cell_type": "code",
   "execution_count": null,
   "metadata": {
    "collapsed": false,
    "slideshow": {
     "slide_type": "fragment"
    }
   },
   "outputs": [],
   "source": [
    "d[0]  # this breaks!  Dictionaries have no order"
   ]
  },
  {
   "cell_type": "markdown",
   "metadata": {},
   "source": [
    "They can, however, be indexed with an appropriate key."
   ]
  },
  {
   "cell_type": "code",
   "execution_count": null,
   "metadata": {
    "collapsed": false,
    "slideshow": {
     "slide_type": "fragment"
    }
   },
   "outputs": [],
   "source": [
    "d[\"favorite spam\"]"
   ]
  },
  {
   "cell_type": "markdown",
   "metadata": {},
   "source": [
    "and the following syntax results in a key called \"0\" "
   ]
  },
  {
   "cell_type": "code",
   "execution_count": null,
   "metadata": {
    "collapsed": false,
    "slideshow": {
     "slide_type": "fragment"
    }
   },
   "outputs": [],
   "source": [
    "d[0] = \"this is a zero\"\n",
    "d"
   ]
  },
  {
   "cell_type": "markdown",
   "metadata": {
    "slideshow": {
     "slide_type": "fragment"
    }
   },
   "source": [
    "Dictionaries can contain dictionaries!"
   ]
  },
  {
   "cell_type": "code",
   "execution_count": null,
   "metadata": {
    "collapsed": false,
    "slideshow": {
     "slide_type": "fragment"
    }
   },
   "outputs": [],
   "source": [
    "d = {'favorites': {'cat': None, 'spam': 'all'},\\\n",
    "     'least favorite': {'cat': 'all', 'spam': None}}\n",
    "d['least favorite']['cat']"
   ]
  },
  {
   "cell_type": "markdown",
   "metadata": {
    "slideshow": {
     "slide_type": "fragment"
    }
   },
   "source": [
    "note: the backslash ('\\') above allows you to break lines without interrupting the code. Not technically needed when defining a dictionary or list, but useful in many instances when you have a long operation that is unwiedy in a single line of code"
   ]
  },
  {
   "cell_type": "markdown",
   "metadata": {
    "slideshow": {
     "slide_type": "slide"
    }
   },
   "source": [
    "** Dictionaries are used everywhere within Python... **"
   ]
  },
  {
   "cell_type": "code",
   "execution_count": null,
   "metadata": {
    "collapsed": false,
    "scrolled": true,
    "slideshow": {
     "slide_type": "fragment"
    }
   },
   "outputs": [],
   "source": [
    "# globals() and locals() store all global and local variables (in this case, since we've imported numpy, quite a few)\n",
    "globals().keys()"
   ]
  },
  {
   "cell_type": "markdown",
   "metadata": {
    "slideshow": {
     "slide_type": "slide"
    }
   },
   "source": [
    "<div class=hw>\n",
    "### Exercise 2\n",
    "--------------\n",
    "\n",
    "Below is a list of information on 50 of the largest near-earth asteroids.\n",
    "\n",
    "(a) Given this list of asteroid information, find and list all asteroids with semi-major axis (a) within 0.2AU of earth, and with eccentricities (e) less than 0.5. \n",
    "\n",
    "(b) Note that the object below is a list (denoted with square brackets) of tuples (denoted with round brackets), and that the orbit class object is a dictionary. Create a dictionary where the name of each asteroid is the key, and the object stored under that key is a three element tuple (semi-major axis (AU), eccentricity, orbit class). \n",
    "\n",
    "(c) using the list (and not the dictionary), print the list of asteroids according to:  \n",
    "    (i) alphabetical by asteroid name  \n",
    "    (ii) in order of increasing semi-major axis  \n",
    "    (iii) in order of increasing eccentricity  \n",
    "    (iv) alphabetically by class (two-stage sorting)  \n",
    "    \n",
    "    hint: use the \"sorted\" function rather than object.sort, and check out the function \"itemgetter\" from the python module \"operator\" \n",
    "    Bonus points if you can get it to print with the columns lined up nicely!"
   ]
  },
  {
   "cell_type": "code",
   "execution_count": null,
   "metadata": {
    "collapsed": false,
    "slideshow": {
     "slide_type": "fragment"
    }
   },
   "outputs": [],
   "source": [
    "# Each element is (name, semi-major axis (AU), eccentricity, orbit class)\n",
    "# source: http://ssd.jpl.nasa.gov/sbdb_query.cgi\n",
    "\n",
    "Asteroids = [('Eros', 1.457916888347732, 0.2226769029627053, 'AMO'),\n",
    "             ('Albert', 2.629584157344544, 0.551788195302116, 'AMO'),\n",
    "             ('Alinda', 2.477642943521562, 0.5675993715753302, 'AMO'),\n",
    "             ('Ganymed', 2.662242764279804, 0.5339300994578989, 'AMO'),\n",
    "             ('Amor', 1.918987277620309, 0.4354863345648127, 'AMO'),\n",
    "             ('Icarus', 1.077941311539208, 0.826950446001521, 'APO'),\n",
    "             ('Betulia', 2.196489260519891, 0.4876246891992282, 'AMO'),\n",
    "             ('Geographos', 1.245477192797457, 0.3355407124897842, 'APO'),\n",
    "             ('Ivar', 1.862724540418448, 0.3968541470639658, 'AMO'),\n",
    "             ('Toro', 1.367247622946547, 0.4358829575017499, 'APO'),\n",
    "             ('Apollo', 1.470694262588244, 0.5598306817483757, 'APO'),\n",
    "             ('Antinous', 2.258479598510079, 0.6070051516585434, 'APO'),\n",
    "             ('Daedalus', 1.460912865705988, 0.6144629118218898, 'APO'),\n",
    "             ('Cerberus', 1.079965807367047, 0.4668134997419173, 'APO'),\n",
    "             ('Sisyphus', 1.893726635847921, 0.5383319204425762, 'APO'),\n",
    "             ('Quetzalcoatl', 2.544270656955212, 0.5704591861565643, 'AMO'),\n",
    "             ('Boreas', 2.271958775354725, 0.4499332278634067, 'AMO'),\n",
    "             ('Cuyo', 2.150453953345012, 0.5041719257675564, 'AMO'),\n",
    "             ('Anteros', 1.430262719980132, 0.2558054402785934, 'AMO'),\n",
    "             ('Tezcatlipoca', 1.709753263222791, 0.3647772103513082, 'AMO'),\n",
    "             ('Midas', 1.775954494579457, 0.6503697243919138, 'APO'),\n",
    "             ('Baboquivari', 2.646202507670927, 0.5295611095751231, 'AMO'),\n",
    "             ('Anza', 2.26415089613359, 0.5371603112900858, 'AMO'),\n",
    "             ('Aten', 0.9668828078092987, 0.1827831025175614, 'ATE'),\n",
    "             ('Bacchus', 1.078135348117527, 0.3495569270441645, 'APO'),\n",
    "             ('Ra-Shalom', 0.8320425524852308, 0.4364726062545577, 'ATE'),\n",
    "             ('Adonis', 1.874315684524321, 0.763949321566, 'APO'),\n",
    "             ('Tantalus', 1.289997492877751, 0.2990853014998932, 'APO'),\n",
    "             ('Aristaeus', 1.599511990737142, 0.5030618532252225, 'APO'),\n",
    "             ('Oljato', 2.172056090036035, 0.7125729402616418, 'APO'),\n",
    "             ('Pele', 2.291471988746353, 0.5115484924883255, 'AMO'),\n",
    "             ('Hephaistos', 2.159619960333728, 0.8374146846143349, 'APO'),\n",
    "             ('Orthos', 2.404988778495748, 0.6569133796135244, 'APO'),\n",
    "             ('Hathor', 0.8442121506103012, 0.4498204013480316, 'ATE'),\n",
    "             ('Beltrovata', 2.104690977122337, 0.413731105995413, 'AMO'),\n",
    "             ('Seneca', 2.516402574514213, 0.5708728441169761, 'AMO'),\n",
    "             ('Krok', 2.152545170235639, 0.4478259793515817, 'AMO'),\n",
    "             ('Eger', 1.404478323548423, 0.3542971360331806, 'APO'),\n",
    "             ('Florence', 1.768227407864309, 0.4227761019048867, 'AMO'),\n",
    "             ('Nefertiti', 1.574493139339916, 0.283902719273878, 'AMO'),\n",
    "             ('Phaethon', 1.271195939723604, 0.8898716672181355, 'APO'),\n",
    "             ('Ul', 2.102493486378346, 0.3951143067760007, 'AMO'),\n",
    "             ('Seleucus', 2.033331705805067, 0.4559159977082651, 'AMO'),\n",
    "             ('McAuliffe', 1.878722427225527, 0.3691521497610656, 'AMO'),\n",
    "             ('Syrinx', 2.469752836845105, 0.7441934504192601, 'APO'),\n",
    "             ('Orpheus', 1.209727780883745, 0.3229034563257626, 'APO'),\n",
    "             ('Khufu', 0.989473784873371, 0.468479627898914, 'ATE'),\n",
    "             ('Verenia', 2.093231870619781, 0.4865133359612604, 'AMO'),\n",
    "             ('Don Quixote', 4.221712367193639, 0.7130894892477316, 'AMO'),\n",
    "             ('Mera', 1.644476057737928, 0.3201425983025733, 'AMO')]\n",
    "\n",
    "orbit_class = {'AMO':'Amor', 'APO':'Apollo', 'ATE':'Aten'}"
   ]
  },
  {
   "cell_type": "code",
   "execution_count": null,
   "metadata": {
    "collapsed": true
   },
   "outputs": [],
   "source": []
  },
  {
   "cell_type": "code",
   "execution_count": 1,
   "metadata": {
    "collapsed": false
   },
   "outputs": [
    {
     "data": {
      "text/html": [
       "<style>\n",
       "div.hw {    \n",
       "    background-color: #fcf2f2;\n",
       "    border-color: #dFb5b4;\n",
       "    border-left: 5px solid #dfb5b4;\n",
       "    padding: 0.5em;\n",
       "    }\n",
       " </style>\n",
       "\n",
       "<style>\n",
       "div.sidebar {    \n",
       "    background-color: #d3d3d3;\n",
       "    border-color: #dFb5b4;\n",
       "    border-left: 5px solid #dfb5b4;\n",
       "    padding: 0.5em;\n",
       "    }\n",
       " </style>"
      ],
      "text/plain": [
       "<IPython.core.display.HTML object>"
      ]
     },
     "execution_count": 1,
     "metadata": {},
     "output_type": "execute_result"
    }
   ],
   "source": [
    "from IPython.core.display import HTML\n",
    "def css_styling():\n",
    "    styles = open(\"../custom.css\", \"r\").read()\n",
    "    return HTML(styles)\n",
    "css_styling()"
   ]
  }
 ],
 "metadata": {
  "anaconda-cloud": {},
  "kernelspec": {
   "display_name": "Python [default]",
   "language": "python",
   "name": "python3"
  },
  "language_info": {
   "codemirror_mode": {
    "name": "ipython",
    "version": 3
   },
   "file_extension": ".py",
   "mimetype": "text/x-python",
   "name": "python",
   "nbconvert_exporter": "python",
   "pygments_lexer": "ipython3",
   "version": "3.5.2"
  }
 },
 "nbformat": 4,
 "nbformat_minor": 0
}
