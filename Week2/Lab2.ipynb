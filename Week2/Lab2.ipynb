{
 "cells": [
  {
   "cell_type": "markdown",
   "metadata": {},
   "source": [
    "# Lab 2: Functions and Control Flow\n",
    "\n",
    "Contents\n",
    "1. Python Functions\n",
    "  * Basic functions\n",
    "  * Modules and importing\n",
    "  * Optional and default arguments\n",
    "2. Conditional Statements and Control Flow\n",
    "  * The if statement and comparison operators\n",
    "  * Iteration\n",
    "  * Exception handling"
   ]
  },
  {
   "cell_type": "markdown",
   "metadata": {},
   "source": [
    "*** Insert Your Names Here***"
   ]
  },
  {
   "cell_type": "markdown",
   "metadata": {},
   "source": [
    "## 1. Python Functions\n",
    "\n",
    "### 1.1 Basic Functions"
   ]
  },
  {
   "cell_type": "markdown",
   "metadata": {},
   "source": [
    "Thus far what we've done in python has been very simple, short tasks. To be useful, though, programs often need to be much longer. Moreover, such programs often involve tasks that must be done repetitively, or there are tasks that we want to perform that are common to many programs. We've already encountered an example of the latter: the sin function. There are many, many reasons why one might want to take the sin of something, so it is useful to define the sin function once and for all so that any program that needs to take the sin can do so, rather than having to come up with their own approximation of the sin using the Taylor expansion or something like that.\n",
    "\n",
    "The capability that we are seeking is provided by defining new functions. This allows us to make our own functions that are just like the sin function, and can be called in a similar way. Functions are defined by the following syntax:"
   ]
  },
  {
   "cell_type": "code",
   "execution_count": 69,
   "metadata": {
    "collapsed": true
   },
   "outputs": [],
   "source": [
    "def myfunc(arg1, arg2):\n",
    "    print(\"I am a function! Here are my arguments:\")\n",
    "    print(arg1)\n",
    "    print(arg2)\n",
    "    print(\"I am returning my first argument now!\")\n",
    "    return(arg1)"
   ]
  },
  {
   "cell_type": "markdown",
   "metadata": {},
   "source": [
    "This defines a very simple function. Let's walk through this declaration step by step:\n",
    "The first line begins with def, then the name of the function, and then in parentheses a list of arguments for the function, then a colon. Arguments are inputs to the function. For example, the sin function takes an angle as an argument. In this example our function has two arguments. The number of arguments is arbitrary, and can be zero, in which case the parentheses are just left empty. It is also possible to write functions where the number of arguments is variable, and need not be the same every time the function is called, but we won't discuss that capability further in this short course.  \n",
    "\n",
    "After the define line, we begin the body of the function. Note that all the lines in the function body are indented. This indentation is IMPORTANT. In python, indentation is used to indicate that a particular line belongs to a particular function, loop, or other block of code. All the lines of the function are indented four spaces. If you're using entering this manually in ipython, either at the command line or in the notebook, you don't need to type in those four spaces by hand; the ipython shell will automatically enter them for you after seeing the def line. If you're using emacs as a text editor, you can just hit the tab key and the correct number of spaces will be entered for you.  \n",
    "\n",
    "Within the body of the function, we can enter whatever commands we like. We can print things, for example. The arguments in that appeared in parentheses in the definition are accessible within the function, and can be manipulated however we like.  \n",
    "\n",
    "At the end of the function, we have a statement that begins return. A return function causes the function to give back a value, which the calling program can print, assign to a variable, or do something else with. For example the sin function returns the sin of the input angle. Return values are optional: functions don't have to return anything, and can just end."
   ]
  },
  {
   "cell_type": "markdown",
   "metadata": {},
   "source": [
    "OK, with that in mind, let's try defining this function"
   ]
  },
  {
   "cell_type": "code",
   "execution_count": 70,
   "metadata": {
    "collapsed": false
   },
   "outputs": [],
   "source": [
    "def myfunc(arg1, arg2):\n",
    "    \"\"\"\n",
    "    This is a function that does nothing in particular\n",
    "    \"\"\"   \n",
    "    print(\"I am a function! Here are my arguments:\")\n",
    "    print(arg1)\n",
    "    print(arg2)\n",
    "    print(\"I am returning my first argument now!\")\n",
    "    return(arg1)"
   ]
  },
  {
   "cell_type": "markdown",
   "metadata": {},
   "source": [
    "When we enter that, nothing is printed out, but python now knows about this function. To demonstrate this, let's try calling it:"
   ]
  },
  {
   "cell_type": "code",
   "execution_count": 71,
   "metadata": {
    "collapsed": false
   },
   "outputs": [
    {
     "name": "stdout",
     "output_type": "stream",
     "text": [
      "I am a function! Here are my arguments:\n",
      "1\n",
      "2\n",
      "I am returning my first argument now!\n"
     ]
    },
    {
     "data": {
      "text/plain": [
       "1"
      ]
     },
     "execution_count": 71,
     "metadata": {},
     "output_type": "execute_result"
    }
   ],
   "source": [
    "myfunc(1,2)"
   ]
  },
  {
   "cell_type": "markdown",
   "metadata": {},
   "source": [
    "<div class=sidebar>\n",
    "## Sidebar - Docstrings\n",
    "Note two things about the formatting of the function.\n",
    "1. I included something called a \"docstring\" (denoted with the triple quotations at the start and end). This is a description of what the function does and is visible when call that function with a question mark (as below). Many companies (e.g. Google) have extensive rules about what should be included in a docstring. For example, [here](http://sphinxcontrib-napoleon.readthedocs.io/en/latest/example_google.html) is a sample Google docstring. Generally speaking, it should include a description of what the function does, some notes about the input and output, and specifics about any optional inputs (\"keywords\") and what they do. Keep your eye out for these as we proceed as I'll be asking you to include docstrings with all of the functions that you write this semester. \n",
    "2. Spacing matters in python, and the code that actually defines the function is all indented by 4 spaces relative to the def line. \n",
    "<div\\>"
   ]
  },
  {
   "cell_type": "code",
   "execution_count": 72,
   "metadata": {
    "collapsed": true
   },
   "outputs": [],
   "source": [
    "myfunc?"
   ]
  },
  {
   "cell_type": "markdown",
   "metadata": {},
   "source": [
    "<div class = hw>\n",
    "### Exercise 1\n",
    "\n",
    "Write a function called \"hellox\" that does the following.\n",
    "1. Takes an input variable (a name).\n",
    "2. Defines a string variable myname that is equal to your name, or some combination of your group members' names. \n",
    "3. prints \"Hello input, my name is myname.\", where input and myname are described in 1 and 2\n",
    "4. returns nothing\n",
    "5. Has a simple docstring that describes what it does\n",
    "\n",
    "<div\\>"
   ]
  },
  {
   "cell_type": "markdown",
   "metadata": {},
   "source": [
    "### 1.2 Modules and Importing"
   ]
  },
  {
   "cell_type": "markdown",
   "metadata": {},
   "source": [
    "We just entered a function at the command line. This is helpful in that it lets us use the function any time we want without having to type in every single command more than once. When you define a function within a notebook, you can use it throughout that notebook without having to redefine it. If you wanted to use the function in a different notebook though, you'd have to redefine the function by typing in all the commands again, however (or copy pasting them into the new notebook). \n",
    "\n",
    "When you've written a useful function that you will want to use again, a nice python feature is the ability to write a function once, in a file, and then never have to type it again. Python provides this capability through what are called modules. A module is just a file that defines functions, and perhaps other things (for example variables). Modules files must end with the extension .py. Let's write our function into a module. \n",
    "\n",
    "To do so, navigate one tab over from this document in your web browser (should be labeled \"Home\" and show all of the files in the directory where you launched Jupyter).  Click on \"New\" in the upper right and select Text File, then copy and paste the text below into that text file (ignore the \\`\\`\\`python at the beginning and the \\`\\`\\` at the end - this is a way to tell the markdown cell that you want the text to be formatted like a block of python code, but not executable like python code). Save it as mymodule.py and close it."
   ]
  },
  {
   "cell_type": "markdown",
   "metadata": {},
   "source": [
    "```python\n",
    "# I am a module!\n",
    "def myfunc(arg1, arg2):\n",
    "    print(\"I am a function in a module! Here are my arguments:\")\n",
    "    print(arg1)\n",
    "    print(arg2)\n",
    "    print(\"I am returning my first argument now!\")\n",
    "    return(arg1)\n",
    "    ```"
   ]
  },
  {
   "cell_type": "markdown",
   "metadata": {},
   "source": [
    "Note the comment at the start, denoted with the # symbol. This tells python that the text that follows it is just a comment, and not something that it should execute. We don't need to use comments as much with Jupyter notebooks as we do in normal programming because we have markdown cells, but it is ALWAYS a good idea to use comments in functions whenever you are doing something complex. In particular, whenever you write a complex line of code (something that it would be hard for you to come back tomorrow, look at and know instantly what it does), you should write a comment above it explaining what it does. It is also always good to add a comment about your module, what it does, when it was created, etc.\n",
    "\n",
    "Once we've saved that file, how do we get it into python? We use a command we've already encountered: import. The import command tells python to read a module file and learn all the definitions in it. Let's try this in our interactive session:"
   ]
  },
  {
   "cell_type": "code",
   "execution_count": 73,
   "metadata": {
    "collapsed": true
   },
   "outputs": [],
   "source": [
    "import mymodule"
   ]
  },
  {
   "cell_type": "code",
   "execution_count": 74,
   "metadata": {
    "collapsed": false
   },
   "outputs": [
    {
     "name": "stdout",
     "output_type": "stream",
     "text": [
      "I am a function in a module! Here are my arguments:\n",
      "1\n",
      "2\n",
      "I am returning my first argument now!\n"
     ]
    },
    {
     "data": {
      "text/plain": [
       "1"
      ]
     },
     "execution_count": 74,
     "metadata": {},
     "output_type": "execute_result"
    }
   ],
   "source": [
    "mymodule.myfunc(1, 2)"
   ]
  },
  {
   "cell_type": "markdown",
   "metadata": {},
   "source": [
    "Here the import command told python to read the module and learn all the functions in it. Then we can call a function. The only difference between this and when we defined the function by hand in the session is that we needed to precede the function name by the name of the module it came from, followed by a period. This is to avoid conflicts where two modules happen to have a function of the same name. If this is too much typing, yu can use a short version of the module name by assigning a new name when you import it:"
   ]
  },
  {
   "cell_type": "code",
   "execution_count": 75,
   "metadata": {
    "collapsed": true
   },
   "outputs": [],
   "source": [
    "import mymodule as mm"
   ]
  },
  {
   "cell_type": "code",
   "execution_count": 76,
   "metadata": {
    "collapsed": false
   },
   "outputs": [
    {
     "name": "stdout",
     "output_type": "stream",
     "text": [
      "I am a function in a module! Here are my arguments:\n",
      "1\n",
      "2\n",
      "I am returning my first argument now!\n"
     ]
    },
    {
     "data": {
      "text/plain": [
       "1"
      ]
     },
     "execution_count": 76,
     "metadata": {},
     "output_type": "execute_result"
    }
   ],
   "source": [
    "mm.myfunc(1,2)"
   ]
  },
  {
   "cell_type": "markdown",
   "metadata": {},
   "source": [
    "One advantage of modules is that they can define more than one function, and can also define variables. Edit the text in your mymodule.py file to contain the text below."
   ]
  },
  {
   "cell_type": "markdown",
   "metadata": {},
   "source": [
    "```python\n",
    "# I am a module!\n",
    "\n",
    "# Here's a variable\n",
    "about_pi = 3.14\n",
    "\n",
    "# Here's the definition of myfunc\n",
    "def myfunc(arg1, arg2):\n",
    "    print(\"I am a function in a module! Here are my arguments:\")\n",
    "    print(arg1)\n",
    "    print(arg2)\n",
    "    print(\"I am returning my first argument now!\")\n",
    "    return(arg1)\n",
    "\n",
    "# Here's another function\n",
    "def myfunc1(arg1):\n",
    "    print(\"I only take one argument. It is:\")\n",
    "    print(arg1)\n",
    "    print(\"I also don't return anything. Bye!\")\n",
    "    ```"
   ]
  },
  {
   "cell_type": "markdown",
   "metadata": {},
   "source": [
    "Now let's import the modified module. The import statement by default doesn't do anything if a module has already been imported, for reasons of efficiency: different parts of a program may all import the same module, and it would be inefficient to import it again if it has already been imported once. However, we can explicitly tell python to override this default behavior using the command reload. This command was built into Python 2, but in Python 3 (which we are using here) needs to be imported from a module called imp, as below, before use. Since we only need the one function, we tell python to import that function alone from the module imp.  "
   ]
  },
  {
   "cell_type": "code",
   "execution_count": 77,
   "metadata": {
    "collapsed": true
   },
   "outputs": [],
   "source": [
    "from imp import reload"
   ]
  },
  {
   "cell_type": "code",
   "execution_count": 78,
   "metadata": {
    "collapsed": false
   },
   "outputs": [
    {
     "data": {
      "text/plain": [
       "<module 'mymodule' from '/Users/kfollette/Desktop/Python Courses/AST200/mymodule.py'>"
      ]
     },
     "execution_count": 78,
     "metadata": {},
     "output_type": "execute_result"
    }
   ],
   "source": [
    "reload(mm)"
   ]
  },
  {
   "cell_type": "code",
   "execution_count": 79,
   "metadata": {
    "collapsed": false
   },
   "outputs": [
    {
     "data": {
      "text/plain": [
       "3.14"
      ]
     },
     "execution_count": 79,
     "metadata": {},
     "output_type": "execute_result"
    }
   ],
   "source": [
    "mm.about_pi"
   ]
  },
  {
   "cell_type": "code",
   "execution_count": 80,
   "metadata": {
    "collapsed": false
   },
   "outputs": [
    {
     "name": "stdout",
     "output_type": "stream",
     "text": [
      "I only take one argument. It is:\n",
      "3\n",
      "I also don't return anything. Bye!\n"
     ]
    }
   ],
   "source": [
    "mm.myfunc1(3)"
   ]
  },
  {
   "cell_type": "markdown",
   "metadata": {},
   "source": [
    "The reload command brought in the new function myfunc1, and also the variable about_pi. Note that, when we called myfunc1, nothing was printed as output beyond the print statements in the function itself. This is because it didn't have a return value.\n",
    "\n",
    "### 1.3 Optional and default arguments\n",
    "\n",
    "The functions we have defined have to be called with the right number of arguments, where \"right\" means \"however many arguments the function says it wants\". Let's see what happens if we fail to do this:"
   ]
  },
  {
   "cell_type": "code",
   "execution_count": 81,
   "metadata": {
    "collapsed": false
   },
   "outputs": [
    {
     "ename": "TypeError",
     "evalue": "myfunc() missing 2 required positional arguments: 'arg1' and 'arg2'",
     "output_type": "error",
     "traceback": [
      "\u001b[0;31m---------------------------------------------------------------------------\u001b[0m",
      "\u001b[0;31mTypeError\u001b[0m                                 Traceback (most recent call last)",
      "\u001b[0;32m<ipython-input-81-8f339541ae81>\u001b[0m in \u001b[0;36m<module>\u001b[0;34m()\u001b[0m\n\u001b[0;32m----> 1\u001b[0;31m \u001b[0mmm\u001b[0m\u001b[0;34m.\u001b[0m\u001b[0mmyfunc\u001b[0m\u001b[0;34m(\u001b[0m\u001b[0;34m)\u001b[0m\u001b[0;34m\u001b[0m\u001b[0m\n\u001b[0m",
      "\u001b[0;31mTypeError\u001b[0m: myfunc() missing 2 required positional arguments: 'arg1' and 'arg2'"
     ]
    }
   ],
   "source": [
    "mm.myfunc()"
   ]
  },
  {
   "cell_type": "markdown",
   "metadata": {},
   "source": [
    "We get an error message. Sometimes, however, it is convenient to have arguments that are optional. They can be set if a user wants, but they don't have to be. We define optional arguments (sometimes also called keyword arguments) by giving them names and assigning default values in the argument list. Here's an example. Add the following to your mymodule.py file:"
   ]
  },
  {
   "cell_type": "markdown",
   "metadata": {},
   "source": [
    "```python\n",
    "# Yet another function\n",
    "def myfunc2(arg1, arg2='cheese', arg3='sandwich'):\n",
    "    print(\"I take one mandatory argument, and two optional ones.\")\n",
    "    print(\"The mandatory argument is:\")\n",
    "    print(arg1)\n",
    "    print(\"The optional arguments are:\")\n",
    "    print(arg2)\n",
    "    print(arg3)\n",
    "    ```"
   ]
  },
  {
   "cell_type": "markdown",
   "metadata": {},
   "source": [
    "In this definition, the argument arg1 is required, and is not given a default value. In contrast, the arguments arg2 and arg3 are optional, and are given defaults. If this function is called without arg2 or arg3 being set, they will be assigned to the default value indicated.\n",
    "\n",
    "Let's reload the module again so that we import this new definition, then experiment with this new capability:"
   ]
  },
  {
   "cell_type": "code",
   "execution_count": 82,
   "metadata": {
    "collapsed": false
   },
   "outputs": [
    {
     "data": {
      "text/plain": [
       "<module 'mymodule' from '/Users/kfollette/Desktop/Python Courses/AST200/mymodule.py'>"
      ]
     },
     "execution_count": 82,
     "metadata": {},
     "output_type": "execute_result"
    }
   ],
   "source": [
    "reload(mm)"
   ]
  },
  {
   "cell_type": "code",
   "execution_count": 83,
   "metadata": {
    "collapsed": false
   },
   "outputs": [
    {
     "name": "stdout",
     "output_type": "stream",
     "text": [
      "I take one mandatory argument, and two optional ones.\n",
      "The mandatory argument is:\n",
      "1\n",
      "The optional arguments are:\n",
      "cheese\n",
      "sandwich\n"
     ]
    }
   ],
   "source": [
    "mm.myfunc2(1)"
   ]
  },
  {
   "cell_type": "code",
   "execution_count": 84,
   "metadata": {
    "collapsed": false
   },
   "outputs": [
    {
     "name": "stdout",
     "output_type": "stream",
     "text": [
      "I take one mandatory argument, and two optional ones.\n",
      "The mandatory argument is:\n",
      "1\n",
      "The optional arguments are:\n",
      "cheese\n",
      "burger\n"
     ]
    }
   ],
   "source": [
    "mm.myfunc2(1, arg3='burger')"
   ]
  },
  {
   "cell_type": "code",
   "execution_count": 85,
   "metadata": {
    "collapsed": false
   },
   "outputs": [
    {
     "name": "stdout",
     "output_type": "stream",
     "text": [
      "I take one mandatory argument, and two optional ones.\n",
      "The mandatory argument is:\n",
      "1\n",
      "The optional arguments are:\n",
      "ham\n",
      "sandwich\n"
     ]
    }
   ],
   "source": [
    "mm.myfunc2(1, arg2='ham')"
   ]
  },
  {
   "cell_type": "code",
   "execution_count": 86,
   "metadata": {
    "collapsed": false
   },
   "outputs": [
    {
     "name": "stdout",
     "output_type": "stream",
     "text": [
      "I take one mandatory argument, and two optional ones.\n",
      "The mandatory argument is:\n",
      "1\n",
      "The optional arguments are:\n",
      "peanut butter\n",
      "sandwich\n"
     ]
    }
   ],
   "source": [
    "mm.myfunc2(1, 'peanut butter')"
   ]
  },
  {
   "cell_type": "markdown",
   "metadata": {},
   "source": [
    "Here we see that optional arguments can be handled several ways when calling a function. First, we can just give the mandatory argument and skip the optional ones, in which case they get their default values. Second, we can call specify one or more of the optional arguments by name, and use the equal sign to specify the value we want it to have. Third, we can give more than just the mandatory number of arguments, but not specify names. In this case, the first extra argument (beyond the mandatory ones) is assumed to correspond to the the first optional argument, the second extra argument to the second optional one, etc.\n",
    "\n",
    "In some cases we want an argument to be option and NOT to have a default value. If it is not set, we want nothing to be assigned. Fortunately, python provides a way to do this. Variables can be set to the special value None, which indicates that the variable has not been assigned to anything. We can always make the default value be None, for example\n",
    "\n",
    "def mfunc2(arg1, arg2='cheese', arg3=None):"
   ]
  },
  {
   "cell_type": "markdown",
   "metadata": {},
   "source": [
    "<div class = hw>\n",
    "### Exercise 2\n",
    "\n",
    "Create a python module file hellox.py that contains your original hellox function from Exercise 1.\n",
    "1. Modify it to include an optional argument called mood, with a default value \"grumpy\".\n",
    "2. Change the print statement to \"Hello *input*, my name is *myname* and today I'm feeling *mood*\"\n",
    "3. Modify your docstring as necessary\n",
    "\n",
    "<div\\>"
   ]
  },
  {
   "cell_type": "markdown",
   "metadata": {},
   "source": [
    "## 2. Conditional Statements and Control Flow\n",
    "\n",
    "### 2.1 The if statement and comparison operators \n",
    "\n",
    "Now that we know how to define new functions and import them, we're in a position to do some useful programming. However, we need a few more tools. One tool we need the ability to decide what to do based on the input we get. To demonstrate this capability, let's define new module. We'll put it in a file called plottrig.py. Let's enter the following:"
   ]
  },
  {
   "cell_type": "markdown",
   "metadata": {},
   "source": [
    "```python\n",
    "# This module plots user-specified trig functions\n",
    "\n",
    "# Import all the definitions from the numpy and plotting libraries\n",
    "from numpy import *\n",
    "from matplotlib.pyplot import *\n",
    "\n",
    "# Define the plotting function\n",
    "def makeplot(funcname):\n",
    "\n",
    "    # Define the x array\n",
    "    x=arange(0, 2*pi, 0.01)\n",
    "\n",
    "    # Check if the user entered the sin, cos, or tan function\n",
    "    if funcname=='sin':\n",
    "        plot(x, sin(x))\n",
    "    elif funcname=='cos':\n",
    "        plot(x, cos(x))\n",
    "    elif funcname=='tan':\n",
    "        plot(x, tan(x))\n",
    "    else:\n",
    "        print(\"Unrecognized function \"+str(funcname))\n",
    "        ```"
   ]
  },
  {
   "cell_type": "markdown",
   "metadata": {},
   "source": [
    "Let's examine this module to understand what it does. First, we import the numpy and matplotlib.pyplot libraries so that we can use arrays, make plots, etc. Note that we have to import these libraries within the module EVEN IF they have already been imported in our main ipython session. Definitions and import statements are specific to the module where they are called, and functions that are defined or imported into the main session (or the main program, if we're running non-interactively) do not affect other modules, and vice-versa: something that is imported into a given module will not also be imported into the main session.\n",
    "\n",
    "Next, we define a function that takes one argument. This argument is the name of the trig function we are going to plot.\n",
    "\n",
    "Third, we define an array that goes from 0 to 2 pi with a spacing of 0.01. This is exactly as we did in the last class.\n",
    "\n",
    "Finally, we decide what to do based on the user input, using an if statement. The structure of if is fairly simple. We begin a line with if and then we follow that with a test that will be either true or false. In this case, we compare the input function name to 'sin' and see if it matches. The comparison is done with the == operator -- more on that in a moment. If the input funcname matches 'sin', we go ahead and plot a sin function. The line to do this is indented another 4 spaces, to indicate that this command belongs within the block to which the if applies.\n",
    "\n",
    "If the name doesn't match 'sin', we next compare it to 'cos'. The statement that does this is 'elif', which is short for 'else if'. The meaning of 'elif' is that we first check the if statement. If it is true, we execute the block of code within that if statement. If it is false, we then go on to the 'elif' line and do that test. If that test turns out to be true, we execute that block of code. In this case, if the input value of funcname is 'cos', then we will plot a cos function. If the elif turns out to be false, we go on to the next one, that compares the input to 'tan'. If that is true, we plot tan. If not, we encounter an 'else'. The 'else' statement is the catchall: it's what we do if all the if's and elif's turn out to be false. In this case, we just print out a message complaining that we don't recognize the input function.\n",
    "\n",
    "For this code to work, we also have to tell Jupyter to put any plots created by python into the notebook directly. You will use this command in most of the notebooks that we use in this class"
   ]
  },
  {
   "cell_type": "code",
   "execution_count": 87,
   "metadata": {
    "collapsed": false
   },
   "outputs": [
    {
     "name": "stdout",
     "output_type": "stream",
     "text": [
      "Populating the interactive namespace from numpy and matplotlib\n"
     ]
    }
   ],
   "source": [
    "%pylab inline"
   ]
  },
  {
   "cell_type": "markdown",
   "metadata": {},
   "source": [
    "OK, let's test this code out:"
   ]
  },
  {
   "cell_type": "code",
   "execution_count": 88,
   "metadata": {
    "collapsed": false
   },
   "outputs": [],
   "source": [
    "import plottrig as pt"
   ]
  },
  {
   "cell_type": "code",
   "execution_count": 89,
   "metadata": {
    "collapsed": false
   },
   "outputs": [
    {
     "data": {
      "image/png": "[encoded data removed]",
      "text/plain": [
       "<matplotlib.figure.Figure at 0x10efbdf28>"
      ]
     },
     "metadata": {},
     "output_type": "display_data"
    }
   ],
   "source": [
    "pt.makeplot('sin')"
   ]
  },
  {
   "cell_type": "markdown",
   "metadata": {},
   "source": [
    "Hopefully you see something like this:\n",
    "\n",
    "![](sin.png \"sin plot\")\n",
    "\n",
    "Try experimenting with the other trig functions to verify that they work. This is a good chance to practice adding cells with your Jupyter shortcut sheet as well"
   ]
  },
  {
   "cell_type": "markdown",
   "metadata": {},
   "source": [
    "The thing that follows an if statement can be any statement or function that results in True or False, but it is obviously useful to be able to compare things. Python provides a number of comparison operators, but the most common ones that you will use are ==, <, >, <=, >=, and !=. Most of these have their usual mathematical meanings (for example < and >), but there are a few subtleties to be aware of.  \n",
    "== tests if two things are equal; we use == rather than = because we need to distinguish comparison from assignment\n",
    "!= means \"not equal\"  \n",
    "<= and >= mean \"less than or equal to\" and \"greater than or equal to\", respectively  \n",
    "when used on strings instead of numbers, < is interpreted to mean \"comes before alphabetically\", and similarly for >, <=, and >="
   ]
  },
  {
   "cell_type": "markdown",
   "metadata": {},
   "source": [
    "<div class = hw>\n",
    "### Exercise 3\n",
    "\n",
    "Add a function to your module file called hellox2. Copy your hellox function from Exercise 2 into this new function, then modify it to meet the following criteria.\n",
    "1. If myname is specified as \"Follette\", print \"Hello Professor Follette! I LOVE Astronomy!!\"\n",
    "2. If myname has 10 or more characters, print nothing\n",
    "3. If myname is specified as \"Sue\", set mood to \"elated\" and print the usual statement.\n",
    "4. If myname is anything else, use the old behavior.\n",
    "\n",
    "<div\\>"
   ]
  },
  {
   "cell_type": "markdown",
   "metadata": {},
   "source": [
    "### 2.2 Iteration"
   ]
  },
  {
   "cell_type": "markdown",
   "metadata": {},
   "source": [
    "The next tool we want to add to our arsenal of programming tools is iteration. Iteration means performing an operation repeatedly. We can execute a very simple example at the command line. Let's make a list of objects (more on lists in a moment) as follows:"
   ]
  },
  {
   "cell_type": "code",
   "execution_count": 90,
   "metadata": {
    "collapsed": true
   },
   "outputs": [],
   "source": [
    "names = ['Henrietta', 'Annie', 'Jocelyn', 'Vera']"
   ]
  },
  {
   "cell_type": "code",
   "execution_count": 91,
   "metadata": {
    "collapsed": false
   },
   "outputs": [
    {
     "name": "stdout",
     "output_type": "stream",
     "text": [
      "There are 9 letters in Henrietta\n",
      "There are 5 letters in Annie\n",
      "There are 7 letters in Jocelyn\n",
      "There are 4 letters in Vera\n"
     ]
    }
   ],
   "source": [
    "for n in names:\n",
    "    print('There are '+str(len(n))+' letters in '+n)"
   ]
  },
  {
   "cell_type": "markdown",
   "metadata": {},
   "source": [
    "This is an example of a for loop. The way a for loop works is a follows. We start with a list of objects -- in this example a list of strings, but it could be anything -- and then we say for variable in list:, followed by a block of code. The code inside the block will be executed once for every item in the list, and when it is executed the variable will be set equal to the appropriate list item. In this example, the list names had four objects in it, each a string. Thus the print statement inside the loop was executed four times. The first time it was executed, the variable n was set equal to alice. The second time n was set equal to bob, then charlie, then dana.\n",
    "\n",
    "One of the most common types of loop is where you want to loop over numbers: 0, 1, 2, 3, .... To handle loops of this sort, python provides a simple command to construct a list of numbers to iterate over, called range. The command range(n) produces a list of numbers from 0 to n-1. For example:"
   ]
  },
  {
   "cell_type": "code",
   "execution_count": 92,
   "metadata": {
    "collapsed": false
   },
   "outputs": [
    {
     "name": "stdout",
     "output_type": "stream",
     "text": [
      "0\n",
      "1\n",
      "2\n",
      "3\n",
      "4\n"
     ]
    }
   ],
   "source": [
    "for i in range(5):\n",
    "    print(i)"
   ]
  },
  {
   "cell_type": "markdown",
   "metadata": {},
   "source": [
    "Note that the range command has exactly the same syntax as the arange command we encountered when we constructed arrays. The difference is that arange returns an array, and range returns a list; we'll clarify the difference between those two in a few minutes.\n",
    "\n",
    "That's really all there is to for loops. To demonstrate their utility, let's say we want to extend the capability of our trigonometric function plotting tool so that a user has the option to plot multiple trig functions with different wavelengths. To implement this, open up your plottrig.py file and edit it as follows:"
   ]
  },
  {
   "cell_type": "markdown",
   "metadata": {},
   "source": [
    "```python\n",
    "# This module plots user-specified trig functions\n",
    "\n",
    "# Import all the definitions from the numpy and plotting libraries\n",
    "from numpy import *\n",
    "from matplotlib.pyplot import *\n",
    "\n",
    "# Define the plotting function\n",
    "def makeplot(funcname, wavelength=[2*pi]):\n",
    "\n",
    "    # Define the x array\n",
    "    x=arange(0, 2*pi, 0.01)\n",
    "\n",
    "    # Loop over wavelengths\n",
    "    for w in wavelength:\n",
    "\n",
    "        # Check if the user entered the sin, cos, or tan function\n",
    "        if funcname=='sin':\n",
    "            plot(x, sin(x*2*pi/w))\n",
    "        elif funcname=='cos':\n",
    "            plot(x, cos(x*2*pi/w))\n",
    "        elif funcname=='tan':\n",
    "            plot(x, tan(x*2*pi/w))\n",
    "        else:\n",
    "            print(\"Unrecognized function \"+str(f))\n",
    "            return\n",
    "            ```"
   ]
  },
  {
   "cell_type": "markdown",
   "metadata": {},
   "source": [
    "Notice first that we've made use of our optional argument capability. The user can enter a wavelength value, but doesn't have to, because the wavelength will default to 2 pi. If the user does enter a set of wavelengths, we've used a loop to iterate over them. Let's try running this code (remembering to reload the module first, and, if you want, to clear the plot window with clf()):"
   ]
  },
  {
   "cell_type": "code",
   "execution_count": 93,
   "metadata": {
    "collapsed": false
   },
   "outputs": [
    {
     "data": {
      "text/plain": [
       "<module 'plottrig' from '/Users/kfollette/Desktop/Python Courses/AST200/plottrig.py'>"
      ]
     },
     "execution_count": 93,
     "metadata": {},
     "output_type": "execute_result"
    }
   ],
   "source": [
    "reload(pt)"
   ]
  },
  {
   "cell_type": "code",
   "execution_count": 94,
   "metadata": {
    "collapsed": false
   },
   "outputs": [
    {
     "data": {
      "image/png": "[encoded data removed]",
      "text/plain": [
       "<matplotlib.figure.Figure at 0x112af22e8>"
      ]
     },
     "metadata": {},
     "output_type": "display_data"
    }
   ],
   "source": [
    "pt.makeplot('sin',[pi,2*pi,3*pi])"
   ]
  },
  {
   "cell_type": "markdown",
   "metadata": {},
   "source": [
    "Hopefully the result looks like this:\n",
    "![](multi.png \"overplotted sins\")"
   ]
  },
  {
   "cell_type": "markdown",
   "metadata": {},
   "source": [
    "There are also other ways of iterating, which may be more convenient depending on what you're trying to do. A very common one is the while loop, which does exactly what it sounds like it should: it loops until some condition is met. For example:"
   ]
  },
  {
   "cell_type": "code",
   "execution_count": 95,
   "metadata": {
    "collapsed": false
   },
   "outputs": [
    {
     "name": "stdout",
     "output_type": "stream",
     "text": [
      "0\n",
      "3\n",
      "6\n",
      "9\n"
     ]
    }
   ],
   "source": [
    "i=0\n",
    "while i < 11:\n",
    "    print(i)\n",
    "    i=i+3"
   ]
  },
  {
   "cell_type": "markdown",
   "metadata": {},
   "source": [
    "The syntax is while condition:, where the condition is anything that evaluates to True or False. When you make a while statement, the condition is checked, then if it is True, the code inside the while block is executed. Then the condition is checked again. If it is still True, the code inside the block is executed again, and so forth, until the condition evaluates to False. In this example, the condition is true when i is 0, 3, 6, and 9, but then i is set to 12 and the condition is False, so the loop halts.\n",
    "Exception handling\n",
    "\n",
    "The final control flow tool we'll play with today is exception handling. To see why we might want this capability, let's do what a user might well do when using the wavelength capability, which is to specify a single wavelength rather than a list:"
   ]
  },
  {
   "cell_type": "code",
   "execution_count": 96,
   "metadata": {
    "collapsed": false
   },
   "outputs": [
    {
     "data": {
      "image/png": "[encoded data removed]",
      "text/plain": [
       "<matplotlib.figure.Figure at 0x112b42e10>"
      ]
     },
     "metadata": {},
     "output_type": "display_data"
    }
   ],
   "source": [
    "pt.makeplot('sin',wavelength=2*pi)"
   ]
  },
  {
   "cell_type": "markdown",
   "metadata": {},
   "source": [
    "We get an error message! Why? Because the code we have written wants to iterate over wavelength, but if the user enters a single number for the wavelength, as opposed to a list, that's not a list we can iterate over.\n",
    "\n",
    "How can we handle this? We can catch this sort of error and handle it. The capability to detect and recover from errors is called exception handling. There are many ways we could use this capability to handle this situation. Let's implement one. Modify your plottrig.py file as follows:"
   ]
  },
  {
   "cell_type": "markdown",
   "metadata": {},
   "source": [
    "```python\n",
    "\n",
    "# This module plots user-specified trig functions\n",
    "\n",
    "# Import all the definitions from the numpy and plotting libraries\n",
    "from numpy import *\n",
    "from matplotlib.pyplot import *\n",
    "\n",
    "# Define the plotting function\n",
    "def makeplot(funcname, wavelength=[2*pi]):\n",
    "\n",
    "    # Define the x array\n",
    "    x=arange(0, 2*pi, 0.01)\n",
    "\n",
    "    # Try to loop over wavelengths to make sure it's possible. If not,\n",
    "    # turn wavelengths into a list.\n",
    "    try:\n",
    "        for w in wavelength:\n",
    "            pass\n",
    "    except TypeError:\n",
    "        wavelength=[wavelength]\n",
    "\n",
    "    # Loop over wavelengths\n",
    "    for w in wavelength:\n",
    "\n",
    "        # Check if the user entered the sin, cos, or tan function\n",
    "        if funcname=='sin':\n",
    "            plot(x, sin(x*2*pi/w))\n",
    "        elif funcname=='cos':\n",
    "            plot(x, cos(x*2*pi/w))\n",
    "        elif funcname=='tan':\n",
    "            plot(x, tan(x*2*pi/w))\n",
    "        else:\n",
    "            print(\"Unrecognized function \"+str(f))\n",
    "            return\n",
    "\n",
    "```"
   ]
  },
  {
   "cell_type": "markdown",
   "metadata": {},
   "source": [
    "The difference between this and the last version is the bit of code\n",
    "\n",
    "```python\n",
    "    # Try to loop over wavelengths to make sure it's possible. If not,\n",
    "    # turn wavelengths into a list.\n",
    "    try:\n",
    "        for w in wavelength:\n",
    "            pass\n",
    "    except TypeError:\n",
    "        wavelength=[wavelength]\n",
    "```\n",
    "\n",
    "Let's break this down into pieces. First, we have a line that says try:. The try statement is a declaration that we're about to try something that may generate an error, and, if it does, we want to decide what to do based on that error. The try statement is followed by the block of code that might generate the error. In this case, we're going to try to loop over wavelength. We won't actually do anything -- we just want to see if it's possible to perform the loop. Thepass statement is a statement that does nothing. It's just a placeholder, inserted because there has to be something inside the for loop. Finally, we get to the line except TypeError:. This line ends the try block, and its purpose is to specify what we do if we get an error. The syntax is that we say except, and then we list one or more types of errors we want to handle. In this case, we want to handle TypeErrors, which arise (among other things) when we try to iterate over something that is not iterable. The final line specified what we do if we generate an error of this sort. The answer is that we turn wavelength into a list of one element, so that we can iterate over it. Then execution continues as before.\n",
    "\n",
    "Now let's verify that this works:\n"
   ]
  },
  {
   "cell_type": "code",
   "execution_count": 97,
   "metadata": {
    "collapsed": false
   },
   "outputs": [
    {
     "data": {
      "text/plain": [
       "<module 'plottrig' from '/Users/kfollette/Desktop/Python Courses/AST200/plottrig.py'>"
      ]
     },
     "execution_count": 97,
     "metadata": {},
     "output_type": "execute_result"
    }
   ],
   "source": [
    "reload(pt)"
   ]
  },
  {
   "cell_type": "code",
   "execution_count": 98,
   "metadata": {
    "collapsed": false
   },
   "outputs": [
    {
     "data": {
      "image/png": "[encoded data removed]",
      "text/plain": [
       "<matplotlib.figure.Figure at 0x112c6d6d8>"
      ]
     },
     "metadata": {},
     "output_type": "display_data"
    }
   ],
   "source": [
    "pt.makeplot('sin',wavelength=2*pi)"
   ]
  },
  {
   "cell_type": "markdown",
   "metadata": {},
   "source": [
    "With luck this now runs without error, and produces a sin wave with a period of 2*pi, just as it did before we added the multi-wavelength capability."
   ]
  },
  {
   "cell_type": "markdown",
   "metadata": {},
   "source": [
    "<div class = hw>\n",
    "### Exercise 4\n",
    "\n",
    "Add another function to your python module - hellox3. This function should be broadly similar to hellox2, but should take a list of names and say something to each name in the list according to how many letters are in the name (the python *len* function will be useful here). You can get creative (within the bounds of politeness) about what exactly it says.\n",
    "\n",
    "<div\\>"
   ]
  },
  {
   "cell_type": "code",
   "execution_count": 28,
   "metadata": {
    "collapsed": false
   },
   "outputs": [
    {
     "data": {
      "text/html": [
       "<style>\n",
       "div.hw {    \n",
       "    background-color: #fcf2f2;\n",
       "    border-color: #dFb5b4;\n",
       "    border-left: 5px solid #dfb5b4;\n",
       "    padding: 0.5em;\n",
       "    }\n",
       " </style>\n",
       "\n",
       "<style>\n",
       "div.sidebar {    \n",
       "    background-color: #d3d3d3;\n",
       "    border-color: #dFb5b4;\n",
       "    border-left: 5px solid #dfb5b4;\n",
       "    padding: 0.5em;\n",
       "    }\n",
       " </style>"
      ],
      "text/plain": [
       "<IPython.core.display.HTML object>"
      ]
     },
     "execution_count": 28,
     "metadata": {},
     "output_type": "execute_result"
    }
   ],
   "source": [
    "from IPython.core.display import HTML\n",
    "def css_styling():\n",
    "    styles = open(\"./custom.css\", \"r\").read()\n",
    "    return HTML(styles)\n",
    "css_styling()"
   ]
  }
 ],
 "metadata": {
  "anaconda-cloud": {},
  "kernelspec": {
   "display_name": "Python [default]",
   "language": "python",
   "name": "python3"
  },
  "language_info": {
   "codemirror_mode": {
    "name": "ipython",
    "version": 3
   },
   "file_extension": ".py",
   "mimetype": "text/x-python",
   "name": "python",
   "nbconvert_exporter": "python",
   "pygments_lexer": "ipython3",
   "version": "3.5.2"
  }
 },
 "nbformat": 4,
 "nbformat_minor": 1
}
